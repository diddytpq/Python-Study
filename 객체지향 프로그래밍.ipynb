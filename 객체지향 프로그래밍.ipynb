{
 "cells": [
  {
   "cell_type": "markdown",
   "metadata": {},
   "source": [
    "## 객체지향 프로그래밍"
   ]
  },
  {
   "cell_type": "code",
   "execution_count": 1,
   "metadata": {},
   "outputs": [],
   "source": [
    "#class 선언하기\n",
    "#사각형 만드는 class 선언하기\n",
    "class Quadrangle:  #PEP Coding Convention 가이드에 따라서 각 단어의 첫 문자를 대문자로 한다.\n",
    "    pass \n",
    "class Singleword:\n",
    "    pass"
   ]
  },
  {
   "cell_type": "code",
   "execution_count": 2,
   "metadata": {},
   "outputs": [
    {
     "data": {
      "text/plain": [
       "['__class__',\n",
       " '__delattr__',\n",
       " '__dict__',\n",
       " '__dir__',\n",
       " '__doc__',\n",
       " '__eq__',\n",
       " '__format__',\n",
       " '__ge__',\n",
       " '__getattribute__',\n",
       " '__gt__',\n",
       " '__hash__',\n",
       " '__init__',\n",
       " '__init_subclass__',\n",
       " '__le__',\n",
       " '__lt__',\n",
       " '__module__',\n",
       " '__ne__',\n",
       " '__new__',\n",
       " '__reduce__',\n",
       " '__reduce_ex__',\n",
       " '__repr__',\n",
       " '__setattr__',\n",
       " '__sizeof__',\n",
       " '__str__',\n",
       " '__subclasshook__',\n",
       " '__weakref__']"
      ]
     },
     "execution_count": 2,
     "metadata": {},
     "output_type": "execute_result"
    }
   ],
   "source": [
    "dir(Singleword)"
   ]
  },
  {
   "cell_type": "code",
   "execution_count": 3,
   "metadata": {},
   "outputs": [],
   "source": [
    "square=Quadrangle()"
   ]
  },
  {
   "cell_type": "code",
   "execution_count": 5,
   "metadata": {},
   "outputs": [
    {
     "data": {
      "text/plain": [
       "__main__.Quadrangle"
      ]
     },
     "execution_count": 5,
     "metadata": {},
     "output_type": "execute_result"
    }
   ],
   "source": [
    "type(square)"
   ]
  },
  {
   "cell_type": "code",
   "execution_count": 8,
   "metadata": {},
   "outputs": [],
   "source": [
    "class Quadrangle():\n",
    "    width=0\n",
    "    height=0\n",
    "    color = 'black'"
   ]
  },
  {
   "cell_type": "code",
   "execution_count": 9,
   "metadata": {},
   "outputs": [
    {
     "data": {
      "text/plain": [
       "['__class__',\n",
       " '__delattr__',\n",
       " '__dict__',\n",
       " '__dir__',\n",
       " '__doc__',\n",
       " '__eq__',\n",
       " '__format__',\n",
       " '__ge__',\n",
       " '__getattribute__',\n",
       " '__gt__',\n",
       " '__hash__',\n",
       " '__init__',\n",
       " '__init_subclass__',\n",
       " '__le__',\n",
       " '__lt__',\n",
       " '__module__',\n",
       " '__ne__',\n",
       " '__new__',\n",
       " '__reduce__',\n",
       " '__reduce_ex__',\n",
       " '__repr__',\n",
       " '__setattr__',\n",
       " '__sizeof__',\n",
       " '__str__',\n",
       " '__subclasshook__',\n",
       " '__weakref__',\n",
       " 'color',\n",
       " 'height',\n",
       " 'width']"
      ]
     },
     "execution_count": 9,
     "metadata": {},
     "output_type": "execute_result"
    }
   ],
   "source": [
    "dir(Quadrangle) # width, height, color attribute 확인"
   ]
  },
  {
   "cell_type": "code",
   "execution_count": 10,
   "metadata": {},
   "outputs": [],
   "source": [
    "square=Quadrangle()"
   ]
  },
  {
   "cell_type": "code",
   "execution_count": 18,
   "metadata": {},
   "outputs": [
    {
     "name": "stdout",
     "output_type": "stream",
     "text": [
      "0 black 0\n"
     ]
    }
   ],
   "source": [
    " # attribute호출 > 객체.attribute이름\n",
    "print(square.height,square.color,square.width)"
   ]
  },
  {
   "cell_type": "code",
   "execution_count": 19,
   "metadata": {},
   "outputs": [],
   "source": [
    "square_2=Quadrangle()"
   ]
  },
  {
   "cell_type": "code",
   "execution_count": 20,
   "metadata": {},
   "outputs": [],
   "source": [
    "square_2.color='red'"
   ]
  },
  {
   "cell_type": "code",
   "execution_count": 23,
   "metadata": {},
   "outputs": [
    {
     "name": "stdout",
     "output_type": "stream",
     "text": [
      "black red\n"
     ]
    }
   ],
   "source": [
    "print(square.color,square_2.color)"
   ]
  },
  {
   "cell_type": "markdown",
   "metadata": {},
   "source": [
    "### 초간단 연습1\n",
    "* width, height, color 속성을 가진 사각형 클래스를 만들고 다음 4개의 객체 만들기 (객체 속성을 바꿔주시고, 출력도 해보세요)\n",
    "- 직사각형 1개 객체 속성: width=10, height=5, color='red'\n",
    "- 정사각형 1개 객체 속성: width=7, height=7, color='blue'"
   ]
  },
  {
   "cell_type": "code",
   "execution_count": 26,
   "metadata": {},
   "outputs": [
    {
     "name": "stdout",
     "output_type": "stream",
     "text": [
      "10 5 red\n",
      "7 7 blue\n"
     ]
    }
   ],
   "source": [
    "class Rectangle:\n",
    "    width=0\n",
    "    heigth=0\n",
    "    color='black'\n",
    "    \n",
    "square_1 = Rectangle()\n",
    "square_2 = Rectangle()\n",
    "square_1.width = 10\n",
    "square_1.heigth = 5\n",
    "square_1.color = 'red'\n",
    "square_2.width = 7\n",
    "square_2.heigth = 7\n",
    "square_2.color = 'blue'\n",
    "print(square_1.width,square_1.heigth,square_1.color)\n",
    "print(square_2.width,square_2.heigth,square_2.color)"
   ]
  },
  {
   "cell_type": "markdown",
   "metadata": {},
   "source": [
    "## method 넣어보기\n",
    "\n",
    "만들고자 하는 method 생각해보기\n",
    "\n",
    "    * 사각형 넓이 구하기\n",
    "    * 사각형 width, height설정하는 함수"
   ]
  },
  {
   "cell_type": "code",
   "execution_count": 29,
   "metadata": {},
   "outputs": [],
   "source": [
    "class Rectangle:\n",
    "    width=0\n",
    "    heigth=0\n",
    "    color='black'\n",
    "    \n",
    "    def get_area(self): #첫번째 파라미터로 self를 사용\n",
    "        return self.width*self.heigth #클래스의 attribute는 내부에서 접근시 self.attribute명으로 접근한다.\n",
    "    \n",
    "    def set_area(self,data1,data2):\n",
    "        self.width=data1\n",
    "        self.heigth=data2"
   ]
  },
  {
   "cell_type": "code",
   "execution_count": 31,
   "metadata": {},
   "outputs": [
    {
     "name": "stdout",
     "output_type": "stream",
     "text": [
      "25\n"
     ]
    }
   ],
   "source": [
    "square_1=Rectangle()\n",
    "square_1.set_area(5,5)\n",
    "print(square_1.get_area())"
   ]
  },
  {
   "cell_type": "markdown",
   "metadata": {},
   "source": [
    "### 초간단 연습2\n",
    "* 위에서 작성한 Rectangle 클래스를 기반으로 직사각형 1개 객체와 정사각형 1개 객체를 만들고, 각 사각형 너비 출력하기(색상도 한번에 바뀌는)\n",
    "- 직사각형2개 속성: width=10, height=5, color='red'\n",
    "- 정사각형2개 속성: width=7, height=7, color='blue'"
   ]
  },
  {
   "cell_type": "code",
   "execution_count": 33,
   "metadata": {},
   "outputs": [
    {
     "name": "stdout",
     "output_type": "stream",
     "text": [
      "50 49\n"
     ]
    }
   ],
   "source": [
    "class Rectangle:\n",
    "    width=0\n",
    "    height=0\n",
    "    color='black'\n",
    "    \n",
    "    def set_area(self,width,heigth,color='black'):\n",
    "        self.width=width\n",
    "        self.heigth=heigth\n",
    "        self.color=color\n",
    "        \n",
    "    def get_area(self):\n",
    "        return self.width*self.heigth\n",
    "    \n",
    "square_1=Rectangle()\n",
    "square_2=Rectangle()\n",
    "square_1.set_area(10,5,'red')\n",
    "square_2.set_area(7,7,'blue')\n",
    "\n",
    "print(square_1.get_area(),square_2.get_area())"
   ]
  },
  {
   "cell_type": "markdown",
   "metadata": {},
   "source": [
    "## 생산자와 소멸자 메서드\n",
    "생성자는 객체 생성시 자동 호출, 소멸자는 객체 소멸시 자동 호출\n"
   ]
  },
  {
   "cell_type": "code",
   "execution_count": 36,
   "metadata": {},
   "outputs": [
    {
     "ename": "NameError",
     "evalue": "name 'self' is not defined",
     "output_type": "error",
     "traceback": [
      "\u001b[0;31m---------------------------------------------------------------------------\u001b[0m",
      "\u001b[0;31mNameError\u001b[0m                                 Traceback (most recent call last)",
      "\u001b[0;32m<ipython-input-36-e235aa39b5dd>\u001b[0m in \u001b[0;36m<module>\u001b[0;34m\u001b[0m\n\u001b[0;32m----> 1\u001b[0;31m \u001b[0;32mclass\u001b[0m \u001b[0mexample\u001b[0m\u001b[0;34m:\u001b[0m  \u001b[0;31m#클래스에서는 self.attribute명을 사용할수 없음\u001b[0m\u001b[0;34m\u001b[0m\u001b[0;34m\u001b[0m\u001b[0m\n\u001b[0m\u001b[1;32m      2\u001b[0m     \u001b[0mself\u001b[0m\u001b[0;34m.\u001b[0m\u001b[0mdata_1\u001b[0m\u001b[0;34m=\u001b[0m\u001b[0;36m0\u001b[0m\u001b[0;34m\u001b[0m\u001b[0;34m\u001b[0m\u001b[0m\n\u001b[1;32m      3\u001b[0m     \u001b[0mself\u001b[0m\u001b[0;34m.\u001b[0m\u001b[0mdata_2\u001b[0m\u001b[0;34m=\u001b[0m\u001b[0;36m1\u001b[0m\u001b[0;34m\u001b[0m\u001b[0;34m\u001b[0m\u001b[0m\n",
      "\u001b[0;32m<ipython-input-36-e235aa39b5dd>\u001b[0m in \u001b[0;36mexample\u001b[0;34m()\u001b[0m\n\u001b[1;32m      1\u001b[0m \u001b[0;32mclass\u001b[0m \u001b[0mexample\u001b[0m\u001b[0;34m:\u001b[0m  \u001b[0;31m#클래스에서는 self.attribute명을 사용할수 없음\u001b[0m\u001b[0;34m\u001b[0m\u001b[0;34m\u001b[0m\u001b[0m\n\u001b[0;32m----> 2\u001b[0;31m     \u001b[0mself\u001b[0m\u001b[0;34m.\u001b[0m\u001b[0mdata_1\u001b[0m\u001b[0;34m=\u001b[0m\u001b[0;36m0\u001b[0m\u001b[0;34m\u001b[0m\u001b[0;34m\u001b[0m\u001b[0m\n\u001b[0m\u001b[1;32m      3\u001b[0m     \u001b[0mself\u001b[0m\u001b[0;34m.\u001b[0m\u001b[0mdata_2\u001b[0m\u001b[0;34m=\u001b[0m\u001b[0;36m1\u001b[0m\u001b[0;34m\u001b[0m\u001b[0;34m\u001b[0m\u001b[0m\n",
      "\u001b[0;31mNameError\u001b[0m: name 'self' is not defined"
     ]
    }
   ],
   "source": [
    "class example:  #클래스에서는 self.attribute명을 사용할수 없음\n",
    "    self.data_1=0\n",
    "    self.data_2=1"
   ]
  },
  {
   "cell_type": "code",
   "execution_count": 50,
   "metadata": {},
   "outputs": [
    {
     "name": "stdout",
     "output_type": "stream",
     "text": [
      "5 5 black\n"
     ]
    }
   ],
   "source": [
    "class Rectangle:\n",
    "    def __init__(self,width,height,color): #생산자 선언\n",
    "        self.width=width\n",
    "        self.height=height\n",
    "        self.color=color\n",
    "    \n",
    "    def __del__(self): #소멸자 선언\n",
    "        print('Rectangle object is deleted')\n",
    "        \n",
    "square_1=Rectangle(5,5,'black') #생산자에 인계될 파라미터\n",
    "print(square_1.width,square_1.height,square_1.color)"
   ]
  },
  {
   "cell_type": "code",
   "execution_count": 51,
   "metadata": {},
   "outputs": [
    {
     "name": "stdout",
     "output_type": "stream",
     "text": [
      "Rectangle object is deleted\n"
     ]
    },
    {
     "ename": "NameError",
     "evalue": "name 'square_1' is not defined",
     "output_type": "error",
     "traceback": [
      "\u001b[0;31m---------------------------------------------------------------------------\u001b[0m",
      "\u001b[0;31mNameError\u001b[0m                                 Traceback (most recent call last)",
      "\u001b[0;32m<ipython-input-51-02695adf745c>\u001b[0m in \u001b[0;36m<module>\u001b[0;34m\u001b[0m\n\u001b[1;32m      1\u001b[0m \u001b[0;32mdel\u001b[0m \u001b[0msquare_1\u001b[0m\u001b[0;34m\u001b[0m\u001b[0;34m\u001b[0m\u001b[0m\n\u001b[0;32m----> 2\u001b[0;31m \u001b[0mprint\u001b[0m\u001b[0;34m(\u001b[0m\u001b[0msquare_1\u001b[0m\u001b[0;34m)\u001b[0m\u001b[0;34m\u001b[0m\u001b[0;34m\u001b[0m\u001b[0m\n\u001b[0m",
      "\u001b[0;31mNameError\u001b[0m: name 'square_1' is not defined"
     ]
    }
   ],
   "source": [
    "del square_1 #객체 삭제 문법 del 객체명\n",
    "print(square_1)"
   ]
  },
  {
   "cell_type": "markdown",
   "metadata": {},
   "source": [
    "### 초간단 연습3\n",
    "* 정삼각형 클래스를 만들고, 정삼각형 이름하기\n",
    "- attribute: 정삼각형 한 변의 길이, 삼각형 이름\n",
    "- method: 정삼각형 이름 리턴, 넓이\n",
    "- 생성자에서 attribute 값 설정\n",
    "- 소멸자작성 후, 객체 소멸시 object is deleted 출력"
   ]
  },
  {
   "cell_type": "code",
   "execution_count": 56,
   "metadata": {},
   "outputs": [
    {
     "name": "stdout",
     "output_type": "stream",
     "text": [
      "object is deleted\n",
      "tri 86.60254037844388\n"
     ]
    }
   ],
   "source": [
    "import numpy as np\n",
    "class Triangle:\n",
    "    def __init__(self,length,name):\n",
    "        self.length=length\n",
    "        self.name=name\n",
    "        \n",
    "    def __del__(self):\n",
    "        print('object is deleted')\n",
    "        \n",
    "    def get_name(self):\n",
    "        return self.name\n",
    "    \n",
    "    def get_area(self):\n",
    "        return self.length*self.length*np.cos(np.deg2rad(30))\n",
    "triangle_1=Triangle(10,'tri')\n",
    "print(triangle_1.get_name(),triangle_1.get_area())"
   ]
  },
  {
   "cell_type": "markdown",
   "metadata": {},
   "source": [
    "## 객체지향 문법(private, protected, public)"
   ]
  },
  {
   "cell_type": "markdown",
   "metadata": {},
   "source": [
    "private으로 선언된 attribute, method는 해당 클래스에서만 접근 가능\n",
    "\n",
    "protected로 선언된 attribute, method는 해당 클래스 또는 해당 클래스를 상속받은 클래스에서만 접근 가능\n",
    "\n",
    "public으로 선언된 attribute, method는 어떤 클래스라도 접근 가능\n",
    "\n",
    "파이썬에서는 모든 attribute, method는 기본적으로 public으로 선언된다(클래스 외부에서 attribute, method에 접근 가능)"
   ]
  },
  {
   "cell_type": "code",
   "execution_count": 58,
   "metadata": {},
   "outputs": [
    {
     "name": "stdout",
     "output_type": "stream",
     "text": [
      "(5, 10)\n"
     ]
    }
   ],
   "source": [
    "class example:\n",
    "    def __init__(self,data_1,data_2):\n",
    "        self.data_1=data_1\n",
    "        self.data_2=data_2\n",
    "    def get_data(self):\n",
    "        return self.data_1,self.data_2\n",
    "    \n",
    "    def set_data(self,data_1,data_2):\n",
    "        self.data_1=data_1\n",
    "        self.data_2=data_2\n",
    "\n",
    "secret=example(5,10)\n",
    "print(secret.get_data()) #public으로 선언됨으로 어디서든 접근이 가능하다"
   ]
  },
  {
   "cell_type": "code",
   "execution_count": 62,
   "metadata": {},
   "outputs": [
    {
     "name": "stdout",
     "output_type": "stream",
     "text": [
      "(5, 10)\n"
     ]
    }
   ],
   "source": [
    "class example:\n",
    "    def __init__(self,data_1,data_2):\n",
    "        self.data_1=data_1\n",
    "        self.data_2=data_2\n",
    "    def _get_data(self):  #protected선언은 앞에 _(single underscore)를 붙여서 표시\n",
    "        return self.data_1,self.data_2\n",
    "    \n",
    "    def set_data(self,data_1,data_2):\n",
    "        self.data_1=data_1\n",
    "        self.data_2=data_2\n",
    "\n",
    "secret=example(5,10)\n",
    "print(secret._get_data()) #파이썬에서는 많은 제약을 받지 않아 호출할때 _를 붙이면 호출이 가능하다."
   ]
  },
  {
   "cell_type": "code",
   "execution_count": 67,
   "metadata": {},
   "outputs": [
    {
     "ename": "AttributeError",
     "evalue": "'example' object has no attribute '__get_data'",
     "output_type": "error",
     "traceback": [
      "\u001b[0;31m---------------------------------------------------------------------------\u001b[0m",
      "\u001b[0;31mAttributeError\u001b[0m                            Traceback (most recent call last)",
      "\u001b[0;32m<ipython-input-67-6190ab3e8b29>\u001b[0m in \u001b[0;36m<module>\u001b[0;34m\u001b[0m\n\u001b[1;32m     11\u001b[0m \u001b[0;34m\u001b[0m\u001b[0m\n\u001b[1;32m     12\u001b[0m \u001b[0msecret\u001b[0m\u001b[0;34m=\u001b[0m\u001b[0mexample\u001b[0m\u001b[0;34m(\u001b[0m\u001b[0;36m5\u001b[0m\u001b[0;34m,\u001b[0m\u001b[0;36m10\u001b[0m\u001b[0;34m)\u001b[0m\u001b[0;34m\u001b[0m\u001b[0;34m\u001b[0m\u001b[0m\n\u001b[0;32m---> 13\u001b[0;31m \u001b[0mprint\u001b[0m\u001b[0;34m(\u001b[0m\u001b[0msecret\u001b[0m\u001b[0;34m.\u001b[0m\u001b[0m__get_data\u001b[0m\u001b[0;34m(\u001b[0m\u001b[0;34m)\u001b[0m\u001b[0;34m)\u001b[0m \u001b[0;31m#외부에서 private로 선언된 attribute와 medthod는 접근이 되지 않는다.\u001b[0m\u001b[0;34m\u001b[0m\u001b[0;34m\u001b[0m\u001b[0m\n\u001b[0m",
      "\u001b[0;31mAttributeError\u001b[0m: 'example' object has no attribute '__get_data'"
     ]
    }
   ],
   "source": [
    "class example:\n",
    "    def __init__(self,data_1,data_2):\n",
    "        self.__data_1=data_1\n",
    "        self.__data_2=data_2\n",
    "    def __get_data(self):  #private선언은 앞에 __(double underscore)를 붙여서 표시\n",
    "        return self.__data_1,self.__data_2\n",
    "    \n",
    "    def __set_data(self,data_1,data_2):\n",
    "        self.data_1=data_1\n",
    "        self.data_2=data_2\n",
    "        \n",
    "secret=example(5,10)\n",
    "print(secret.__get_data()) #외부에서 private로 선언된 attribute와 medthod는 접근이 되지 않는다."
   ]
  },
  {
   "cell_type": "markdown",
   "metadata": {},
   "source": [
    "### * 원 클래스를 만들기\n",
    "- attribute: 원 반지름, 원 이름\n",
    "- method:\n",
    "1. 원 이름 리턴 메서드\n",
    "2. 원 넓이 리턴 메서드\n",
    "- 참고(원 넓이 식): 3.14 X 원 반지름 ** 2(원 반지름의 제곱)\n",
    "3. 원 길이 리턴 메서드\n",
    "- 참고(원 길이 식): 2 X 3.14 X 원 반지름\n",
    "- 생성자에서만 attribute 값 설정 가능\n",
    "- attribute는 private 으로 설정"
   ]
  },
  {
   "cell_type": "code",
   "execution_count": 70,
   "metadata": {},
   "outputs": [
    {
     "name": "stdout",
     "output_type": "stream",
     "text": [
      "circle 28.26 18.84\n"
     ]
    }
   ],
   "source": [
    "class Round:\n",
    "    def __init__(self,radius,name):\n",
    "        self.__radius=radius\n",
    "        self.__name=name\n",
    "    \n",
    "    def get_name(self):\n",
    "        return self.__name\n",
    "    def get_area(self):\n",
    "        return (self.__radius**2)*3.14\n",
    "    def get_length(self):\n",
    "        return 2*3.14*self.__radius\n",
    "    \n",
    "circle=Round(3,'circle')\n",
    "print(circle.get_name(),circle.get_area(),circle.get_length())"
   ]
  },
  {
   "cell_type": "markdown",
   "metadata": {},
   "source": [
    "### 과제\n",
    "1. 계좌 관리 class 작성하기\n",
    "    - attribute: 계좌 초기 금액을 속성으로 하나 설정\n",
    "    - 생성자에서 초기 금액은 0으로 설정\n",
    "    - 속성은 private 으로 설정\n",
    "    - method: 인출, 저축, 잔액 확인 세 가지 method 구현, 각각 현재 계좌 금액 리턴\n",
    "    - 각 method 도 private 으로 설정\n",
    "\n",
    "2. 학생 성적 관리 class 작성하기\n",
    "    - attribute: 국어, 영어, 수학, 학생 이름 네 개의 속성\n",
    "    - 생성자에서 각 속성을 객체 생성시 전달된 인자값으로 설정\n",
    "    - 각 속성은 private 으로 설정\n",
    "    - method: 전체 과목 점수 평균, 전체 과목 총점 두 가지 method 구현\n",
    "    - 각 method 는 private 으로 설정\n",
    "    \n",
    "3. 피자 가게 관리 class 작성하기\n",
    "    - attribute: 피자 종류(리스트 데이터 타입), 피자 가게 이름 속성\n",
    "    - 생성자에서 각 속성을 객체 생성시 전달된 인자값으로 설정, 피자 종류는 ['슈퍼슈프림', '콤비네이션', '불고기']로 제공\n",
    "    - 각 속성은 private 으로 설정\n",
    "    - method: 원하는 피자를 제공하는지를 알려주는 기능, YES 또는 NO 문자열을 리턴"
   ]
  },
  {
   "cell_type": "code",
   "execution_count": 71,
   "metadata": {},
   "outputs": [],
   "source": [
    "class Account:\n",
    "    money=0\n",
    "    def __init__(self):\n",
    "        self.__money=0\n",
    "        \n",
    "    def __take_money(self,money):\n",
    "        self.__money-=money\n",
    "        return __self.money\n",
    "    \n",
    "    def __save_money(self,money):\n",
    "        self.__money+=money\n",
    "        return self.__money\n",
    "    \n",
    "    def __check_money(self):\n",
    "        return self.__money\n"
   ]
  },
  {
   "cell_type": "code",
   "execution_count": 81,
   "metadata": {},
   "outputs": [],
   "source": [
    "class Grade_check:\n",
    "    def __init__(self,kor,eng,math,name):\n",
    "        self.__kor=kor\n",
    "        self.__eng=eng\n",
    "        self.__math=math\n",
    "        self.__name=name\n",
    "    \n",
    "    def __get_total(self):\n",
    "        return self.__kor+self.__eng+self.__math\n",
    "    \n",
    "    def get_average(self):\n",
    "        return __get_total()/3\n"
   ]
  },
  {
   "cell_type": "code",
   "execution_count": 91,
   "metadata": {},
   "outputs": [
    {
     "name": "stdout",
     "output_type": "stream",
     "text": [
      "No\n",
      "Yes\n"
     ]
    }
   ],
   "source": [
    "class Pizza:\n",
    "    categori=['슈퍼슈프림','콤비네이션','불고기']\n",
    "    def __init__(self,data):\n",
    "        self.__data=data\n",
    "    def get_able(self):\n",
    "        if self.categori[0]==self.__data or self.categori[1]==self.__data or self.categori[2]==self.__data:\n",
    "            return 'Yes'\n",
    "        else:\n",
    "            return 'No'\n",
    "pizza=Pizza('김치')\n",
    "print(pizza.get_able())\n",
    "pizza_1=Pizza('불고기')\n",
    "print(pizza_1.get_able())"
   ]
  },
  {
   "cell_type": "markdown",
   "metadata": {},
   "source": [
    "## 객체지향 문법(상속)\n",
    "- 추상화(abstraction): 여러 클래스에 중복되는 속성, 메서드를 하나의 기본 클래스로 작성하는 작업  \n",
    "- 상속(inheritance): 기본 클래스의 공통 기능을 물려받고, 다른 부분만 추가 또는 변경하는 것  \n",
    "- 이 때 기본 클래스는 부모 클래스(또는 상위 클래스), Parent, Super, Base class 라고 부름  \n",
    "- 기본 클래스 기능을 물려받는 클래스는 자식 클래스(또는 하위 클래스), Child, Sub, Derived class 라고 부름  "
   ]
  },
  {
   "cell_type": "code",
   "execution_count": 97,
   "metadata": {},
   "outputs": [
    {
     "name": "stdout",
     "output_type": "stream",
     "text": [
      "rectangle blue 5 5\n"
     ]
    }
   ],
   "source": [
    "class Figure:\n",
    "    def __init__(self,name,color):\n",
    "        self.name=name\n",
    "        self.color=color\n",
    "\n",
    "class Rectangle(Figure):\n",
    "    def set_area(self,width,height):\n",
    "        self.__width=width\n",
    "        self.__height=height\n",
    "    \n",
    "    def get_info(self):\n",
    "        print(self.name,self.color,self.__width,self.__height)\n",
    "\n",
    "square=Rectangle('rectangle','blue')\n",
    "square.set_area(5,5)\n",
    "square.get_info()"
   ]
  },
  {
   "cell_type": "code",
   "execution_count": 98,
   "metadata": {},
   "outputs": [
    {
     "data": {
      "text/plain": [
       "True"
      ]
     },
     "execution_count": 98,
     "metadata": {},
     "output_type": "execute_result"
    }
   ],
   "source": [
    "issubclass(Rectangle,Figure) #Rectangle클래스가 Figure 클래스의 자식인지 확인"
   ]
  },
  {
   "cell_type": "code",
   "execution_count": 101,
   "metadata": {},
   "outputs": [
    {
     "name": "stdout",
     "output_type": "stream",
     "text": [
      "yoseph study hard\n",
      "123 works hard\n"
     ]
    }
   ],
   "source": [
    "class Person:\n",
    "    def __init__(self,name):\n",
    "        self.name=name\n",
    "        \n",
    "class Student(Person):\n",
    "    def study(self):\n",
    "        print(self.name+' study hard')\n",
    "        \n",
    "class Employee(Person):\n",
    "    def work(self):\n",
    "        print(self.name+' works hard')\n",
    "        \n",
    "me=Student('yoseph')\n",
    "you=Employee('123')\n",
    "me.study()\n",
    "you.work()"
   ]
  },
  {
   "cell_type": "markdown",
   "metadata": {},
   "source": [
    "### 매서트 재정의  \n",
    "- 부모 클래스의 method를 자식 클래스에서 재정의(override)  \n",
    "- 자식 클래스에서 부모 클래스 method를 재정의함  \n",
    "- 자식 클래스 객체에서는 재정의된 메소드가 호출됨  \n",
    "- 자식 클래스에서 부모 클래스의 메서드와 이름만 동일하면 메서드 재정의가 가능함  \n",
    "- C++/Java언어 등에서는 메서드와 인자도 동일해야 함  "
   ]
  },
  {
   "cell_type": "code",
   "execution_count": 103,
   "metadata": {},
   "outputs": [
    {
     "name": "stdout",
     "output_type": "stream",
     "text": [
      "yoseph study hard\n",
      "yoseph end\n"
     ]
    }
   ],
   "source": [
    "class Person:\n",
    "    def __init__(self,name):\n",
    "        self.name=name\n",
    "        \n",
    "    def work(self):\n",
    "        print(self.name+' works hard')\n",
    "\n",
    "class Student(Person):\n",
    "    \n",
    "    def work(self):\n",
    "        print(self.name+' study hard')\n",
    "    \n",
    "    def finish(self):\n",
    "        print(self.name+ ' end')\n",
    "        \n",
    "me=Student('yoseph')\n",
    "me.work()\n",
    "me.finish()"
   ]
  },
  {
   "cell_type": "markdown",
   "metadata": {},
   "source": [
    "초간단 연습7\n",
    "* Car class 만들기\n",
    "- Car class\n",
    "    - attribute: 생성자에서 self.name 설정\n",
    "    - method: info(self) - 이름 출력\n",
    "\n",
    "- Eletronic Car class\n",
    "    - attribute: 생성자에서 self.name 설정\n",
    "    - method overide: info(self) - 이름과 사용 연료(Eletronic) 출력\n",
    "\n",
    "- Gasoline Car class\n",
    "    - attribute: 생성자에서 self.name 설정\n",
    "    - method overide: info(self) - 이름과 사용 연료(Gasoline) 출력"
   ]
  },
  {
   "cell_type": "code",
   "execution_count": 108,
   "metadata": {},
   "outputs": [
    {
     "name": "stdout",
     "output_type": "stream",
     "text": [
      "car_1 Eletronic\n",
      "car_2 gasoline\n"
     ]
    }
   ],
   "source": [
    "class Car:\n",
    "    def __init__(self,name):\n",
    "        self.name=name\n",
    "    \n",
    "    def get_info(self):\n",
    "        print(self.name)\n",
    "        \n",
    "class Eletronic_car(Car):\n",
    "    def get_info(self):\n",
    "        print(self.name+' Eletronic')\n",
    "\n",
    "class Gasoline_car(Car):\n",
    "    def get_info(self):\n",
    "        print(self.name +' gasoline')\n",
    "        \n",
    "car_1=Eletronic_car('car_1')\n",
    "car_2=Gasoline_car('car_2')\n",
    "car_1.get_info()\n",
    "car_2.get_info()"
   ]
  },
  {
   "cell_type": "markdown",
   "metadata": {},
   "source": [
    "### 자식 클래스에서 부모 클래스 메서드 호출(super 와 self)\n",
    "#### super  \n",
    "- 자식 클래스에서 부모 클래스의 method를 호출할 때 사용  \n",
    "- super().부모 클래스의 method명"
   ]
  },
  {
   "cell_type": "code",
   "execution_count": 109,
   "metadata": {},
   "outputs": [
    {
     "name": "stdout",
     "output_type": "stream",
     "text": [
      "study hard\n",
      "work hard\n"
     ]
    }
   ],
   "source": [
    "class Person:\n",
    "    def work(self):\n",
    "        print('work hard')\n",
    "    \n",
    "class Student(Person):\n",
    "    def work(self):\n",
    "        print('study hard')\n",
    "        \n",
    "    def parttime(self):\n",
    "        super().work()\n",
    "        \n",
    "me=Student()\n",
    "me.work()\n",
    "me.parttime()"
   ]
  },
  {
   "cell_type": "markdown",
   "metadata": {},
   "source": [
    "#### self\n",
    "- self는 현재의 객체를 나타냄\n",
    "- self.method명 또는 attribute명 으로 호출함\n",
    "- C++/C#, Java언어에서는 this 라는 키워드를 사용함"
   ]
  },
  {
   "cell_type": "code",
   "execution_count": 111,
   "metadata": {},
   "outputs": [
    {
     "name": "stdout",
     "output_type": "stream",
     "text": [
      "study hard\n",
      "work hard\n",
      "study hard\n"
     ]
    }
   ],
   "source": [
    "class Person:\n",
    "    def work(self):\n",
    "        print('work hard')\n",
    "    \n",
    "class Student(Person):\n",
    "    def work(self):\n",
    "        print('study hard')\n",
    "        \n",
    "    def parttime(self):\n",
    "        super().work()\n",
    "        \n",
    "    def general(self):\n",
    "        self.work()\n",
    "        \n",
    "me=Student()\n",
    "me.work()\n",
    "me.parttime()\n",
    "me.general()"
   ]
  },
  {
   "cell_type": "markdown",
   "metadata": {},
   "source": [
    "### 자식 클래스에서 부모 클래스 메서드 확장파는 방법\n",
    "- 부모 클래스 메서드 기능에 추가적인 기능이 필요할 경우\n",
    "- 부모 클래스 메서드는 그대로 이용하면서 자식 클래스 메서드에서 필요한 기능만 정의하는 기법\n",
    "- 해당 메서드에서 상속 받은 부모 클래스명.메서드명 을 호출하고, 필요한 기능 추가 정의\n"
   ]
  },
  {
   "cell_type": "code",
   "execution_count": 112,
   "metadata": {},
   "outputs": [
    {
     "name": "stdout",
     "output_type": "stream",
     "text": [
      "work hard\n",
      "study hard\n"
     ]
    }
   ],
   "source": [
    "class Person:\n",
    "    def work(self):\n",
    "        print('work hard')\n",
    "        \n",
    "class Student(Person):\n",
    "    def work(self):\n",
    "        Person.work(self) #부모 메서드 호출\n",
    "        print('study hard')#추가 기능 정의\n",
    "        \n",
    "me=Student()\n",
    "me.work()"
   ]
  },
  {
   "cell_type": "code",
   "execution_count": 114,
   "metadata": {},
   "outputs": [
    {
     "name": "stdout",
     "output_type": "stream",
     "text": [
      "사이즈: 3 3\n",
      "너비: 9\n"
     ]
    }
   ],
   "source": [
    "class Figure:\n",
    "    def __init__(self,width,height):\n",
    "        self.width=width\n",
    "        self.height=height\n",
    "        \n",
    "    def get_info(self):\n",
    "        print('사이즈:',self.width,self.height)\n",
    "        \n",
    "class Rectangle(Figure):\n",
    "    def get_info(self):\n",
    "        Figure.get_info(self)\n",
    "        print('너비:',self.width*self.height)\n",
    "\n",
    "square=Rectangle(3,3)\n",
    "square.get_info()"
   ]
  },
  {
   "cell_type": "markdown",
   "metadata": {},
   "source": [
    "### 추상 클래스 사용하기\n",
    "- 메서드 목록만 가진 클래스, 상속받는 클래스에서 해당 메서드 구현해야 함\n",
    "- 예: 게임에서 모든 캐릭터는 공격하기, 이동하기의 공통 기능을 가지고 있음\n",
    "- 공통 기능을 추상 클래스로 만들고, 각 세부 기능은 해당 메서드에서 구현하는 것"
   ]
  },
  {
   "cell_type": "code",
   "execution_count": 115,
   "metadata": {},
   "outputs": [
    {
     "name": "stdout",
     "output_type": "stream",
     "text": [
      "Elf attack\n",
      "run\n",
      "fly\n",
      "Human attack\n"
     ]
    }
   ],
   "source": [
    "from abc import *\n",
    "\n",
    "class Character(metaclass=ABCMeta):\n",
    "    @abstractmethod\n",
    "    def attack(self):\n",
    "        pass\n",
    "    def move(self):\n",
    "        pass\n",
    "    \n",
    "class Elf(Character):\n",
    "    def attack(self):\n",
    "        print('Elf attack')\n",
    "    \n",
    "    def move(self):\n",
    "        print('fly')\n",
    "        \n",
    "class Human(Character):\n",
    "    def attack(self):\n",
    "        print('Human attack')\n",
    "        \n",
    "    def move(self):\n",
    "        print('run')\n",
    "        \n",
    "elf_1=Elf()\n",
    "me=Human()\n",
    "elf_1.attack()\n",
    "me.move()\n",
    "elf_1.move()\n",
    "me.attack()"
   ]
  },
  {
   "cell_type": "code",
   "execution_count": 119,
   "metadata": {},
   "outputs": [
    {
     "name": "stdout",
     "output_type": "stream",
     "text": [
      "50\n",
      "elf attack\n",
      "elf move\n"
     ]
    }
   ],
   "source": [
    "from abc import*\n",
    "\n",
    "class Character(metaclass=ABCMeta):\n",
    "    def __init__(self,hp):\n",
    "        self.hp=hp\n",
    "    \n",
    "    def get_hp(self):\n",
    "        return self.hp\n",
    "    \n",
    "    @abstractmethod\n",
    "    def attack(self):\n",
    "        pass\n",
    "    @abstractmethod\n",
    "    def move(self):\n",
    "        pass\n",
    "    \n",
    "class Elf(Character): \n",
    "    def attack(self):\n",
    "        print('elf attack')\n",
    "    \n",
    "    def move(self):\n",
    "        print('elf move')\n",
    "\n",
    "elf=Elf(50)\n",
    "print(elf.get_hp())\n",
    "elf.attack()\n",
    "elf.move()"
   ]
  },
  {
   "cell_type": "markdown",
   "metadata": {},
   "source": [
    "### 초간단 연습8\n",
    "* Car class 추상 클래스 만들기\n",
    "- attribute: 자동차 이름 - method: info(self) - 이름 출력\n",
    "- abstract method: fuel(self)\n",
    "\n",
    "- Eletronic Car class\n",
    "- attribute: 생성자에서 self.name 설정\n",
    "- method: info(self) - 이름 출력\n",
    "- method: fuel(self) - 사용 연료(Eletronic) 출력"
   ]
  },
  {
   "cell_type": "code",
   "execution_count": 122,
   "metadata": {},
   "outputs": [
    {
     "name": "stdout",
     "output_type": "stream",
     "text": [
      "booing Eletronic\n"
     ]
    }
   ],
   "source": [
    "from abc import *\n",
    "\n",
    "class Car:\n",
    "    def __init__(self,name):\n",
    "        self.name=name\n",
    "    \n",
    "    def get_info(self):\n",
    "        return self.name\n",
    "    @abstractmethod\n",
    "    def fuel(self):\n",
    "        pass\n",
    "    \n",
    "class Eletronic_car(Car):\n",
    "    def fuel(self):\n",
    "        return 'Eletronic'\n",
    "    \n",
    "car=Eletronic_car('booing')\n",
    "print(car.get_info(),car.fuel())"
   ]
  },
  {
   "cell_type": "markdown",
   "metadata": {},
   "source": [
    "### 클래스 속성과 메서드\n",
    "- 클래스 변수와 인스턴스 변수 (attribute를 한 단계 더 구분해보자)\n",
    "- 클래스 변수: 클래스 정의에서 메서드 밖에 존재하는 변수\n",
    "- 해당 클래스를 사용하는 모두에게 공용으로 사용되는 변수\n",
    "- 클래스 변수는 클래스 내외부에서 \"클래스명.변수명\" 으로 엑세스 가능\n",
    "- 인스턴스 변수: 클래스 정의에서 메서드 안에서 사용되면서 \"self.변수명\"처럼 사용되는 변수\n",
    "- 각 객체별로 서로 다른 값을 가짐\n",
    "- 클래스 내부에서는 self.인스턴스변수명 을 사용하여 엑세스, 클래스 밖에서는 객체명.인스턴스변수명 으로 엑세스"
   ]
  },
  {
   "cell_type": "code",
   "execution_count": 127,
   "metadata": {},
   "outputs": [
    {
     "data": {
      "text/plain": [
       "2"
      ]
     },
     "execution_count": 127,
     "metadata": {},
     "output_type": "execute_result"
    }
   ],
   "source": [
    "class Figure:\n",
    "    count=0 #클래스 변수선언\n",
    "    \n",
    "    def __init__(self,width,height):\n",
    "        self.width=width\n",
    "        self.height=height\n",
    "        Figure.count+=1 #클래스 변수 접근\n",
    "        \n",
    "    def __def__(self):\n",
    "        Figure.count-=1\n",
    "    \n",
    "    def calc_area(self):\n",
    "        return self.width*self.height\n",
    "\n",
    "figure_1=Figure(2,3)\n",
    "Figure.count\n",
    "figure_2=Figure(3,4)\n",
    "Figure.count"
   ]
  },
  {
   "cell_type": "markdown",
   "metadata": {},
   "source": [
    "### 다양성(ploymorphism)\n",
    "- 같은 모양의 코드가 다른 동작을 하는 것\n",
    "- 키보드의 예로\n",
    "    - push(keyboard): 키보드를 누룬다는 동일한 코드에 대해\n",
    "    - ENTER, ESC, A 등 실제 키에 따라 동작이 다른 것을 의미함\n",
    "- 다형성은 코드의 양을 줄이고, 여러 객체 타입을 하나의 타입으로 관리가 가능하여 유지보수에 좋음"
   ]
  },
  {
   "cell_type": "code",
   "execution_count": 135,
   "metadata": {},
   "outputs": [
    {
     "name": "stdout",
     "output_type": "stream",
     "text": [
      "dave sells something\n",
      "david sells something\n",
      "Andy sells something\n",
      "aiden develops something\n",
      "Tina develops something\n",
      "Anthony develops something\n"
     ]
    }
   ],
   "source": [
    "class Worker:\n",
    "    def __init__(self,name):\n",
    "        self.name=name\n",
    "\n",
    "class Sale_worker(Worker):\n",
    "    def work(self):\n",
    "        print(self.name,'sells something')\n",
    "        \n",
    "class Dev_worker(Worker):\n",
    "    def work(self):\n",
    "        print(self.name,'develops something')\n",
    "        \n",
    "worker_1=Sale_worker('dave')\n",
    "worker_2=Sale_worker('david')\n",
    "worker_3=Sale_worker('Andy')\n",
    "worker_4=Dev_worker('aiden')\n",
    "worker_5=Dev_worker('Tina')\n",
    "worker_6=Dev_worker('Anthony')\n",
    "\n",
    "workers=[worker_1, worker_2, worker_3, worker_4, worker_5, worker_6]\n",
    "for i in workers:\n",
    "    i.work()"
   ]
  },
  {
   "cell_type": "markdown",
   "metadata": {},
   "source": [
    "### 초간단 연습10\n",
    "* 요정(Elf), 파이터(Fighter) 클래스 만들기\n",
    "- 이름을 입력받음 - Elf의 attack 메서드: 출력 \"마법으로 공격합니다.\"\n",
    "- Fighter의 attack 메서드: 출력 \"주먹으로 공격합니다.\"\n",
    "- 다음과 같이 객체 생성 후 반복문으로 공격"
   ]
  },
  {
   "cell_type": "code",
   "execution_count": 137,
   "metadata": {},
   "outputs": [
    {
     "name": "stdout",
     "output_type": "stream",
     "text": [
      "Dave 마법으로 공격합니다.\n",
      "anthony 주먹으로 공격합니다.\n"
     ]
    }
   ],
   "source": [
    "class Characher:\n",
    "    def __init__(self,name):\n",
    "        self.name=name\n",
    "class Elf(Characher):\n",
    "    def attack(self):\n",
    "        print(self.name,'마법으로 공격합니다.')\n",
    "\n",
    "class Fighter(Characher):\n",
    "    def attack(self):\n",
    "        print(self.name,'주먹으로 공격합니다.')\n",
    "        \n",
    "elf=Elf('Dave')\n",
    "fighter=Fighter('anthony')\n",
    "team=[elf,fighter]\n",
    "for i in team:\n",
    "    i.attack()"
   ]
  },
  {
   "cell_type": "markdown",
   "metadata": {},
   "source": [
    "### 연산자 중복 정의\n",
    "- 객체에서 필요한 연산자를 재정의하는 것\n",
    "- 연산자 중복을 위해 미리 정의된 특별한 메서드 존재: __로 시작 __로 끝나는 특수 함수\n",
    "- 해당 메쏘드들을 구현하면, 객체에 여러가지 파이썬 내장 함수나 연산자를 재정의하여 사용 가능"
   ]
  },
  {
   "cell_type": "code",
   "execution_count": 140,
   "metadata": {},
   "outputs": [
    {
     "data": {
      "text/plain": [
       "4"
      ]
     },
     "execution_count": 140,
     "metadata": {},
     "output_type": "execute_result"
    }
   ],
   "source": [
    "class Figure_1:\n",
    "    def __init__(self,width,height):\n",
    "        self.width=width\n",
    "        self.height=height\n",
    "        \n",
    "class Figure_2:\n",
    "    def __init__(self,width,height):\n",
    "        self.width=width\n",
    "        self.height=height\n",
    "    \n",
    "    def __add__(self,second):\n",
    "        return Figure_2(self.width+second.width,self.height+second.height)\n",
    "\n",
    "figure_1=Figure_1(1,2)\n",
    "figure_2=Figure_2(3,4)\n",
    "figure_3=figure_2+figure_1 #figure_1+figure_2-->error\n",
    "figure_3.width"
   ]
  },
  {
   "cell_type": "code",
   "execution_count": 141,
   "metadata": {},
   "outputs": [],
   "source": [
    "class Quadrangle:\n",
    "    def __init__(self, width, height):\n",
    "        self.width = width\n",
    "        self.height = height\n",
    "\n",
    "    def __add__(self, second):    \n",
    "        return Quadrangle(self.width + second, self.height + second)\n",
    "    \n",
    "    # 연산자 곱셈    \n",
    "    def __mul__(self, num):\n",
    "        return Quadrangle(self.width * num, self.height * num)\n",
    "\n",
    "    # 연산자 len() - 길이    \n",
    "    def __len__(self):\n",
    "        return self.width * 2 + self.height * 2\n",
    "\n",
    "    # 연산자 A[index] - 리스트    \n",
    "    def __getitem__(self, index):\n",
    "        if index == 0:\n",
    "            return self.width\n",
    "        elif index == 1:\n",
    "            return self.height\n",
    "\n",
    "    # 연산자 str() - 문자열 변환           \n",
    "    def __str__(self):\n",
    "        return 'width : {}, height : {}'.format(self.width, self.height)"
   ]
  },
  {
   "cell_type": "code",
   "execution_count": 142,
   "metadata": {},
   "outputs": [
    {
     "name": "stdout",
     "output_type": "stream",
     "text": [
      "6\n",
      "6 7\n",
      "width : 2, height : 3\n",
      "width : 6, height : 9\n",
      "10\n"
     ]
    }
   ],
   "source": [
    "rectangle1 = Quadrangle(2, 3)\n",
    "rectangle3 = rectangle1 + 4\n",
    "print (rectangle3.width) #6\n",
    "print(rectangle3.width, rectangle3.height) #6 7\n",
    "rectangle4 = rectangle1 * 3 \n",
    "print(str(rectangle1)) #width : 2, height : 3\n",
    "print(str(rectangle4)) #width : 6, height : 9\n",
    "print(len(rectangle1)) #10"
   ]
  },
  {
   "cell_type": "markdown",
   "metadata": {},
   "source": [
    "### 객체 주소 확인하기(is, == 연산자 이해)\n",
    "\n",
    "- id(객체명): 객체가 가리키는 실제 주소값\n",
    "\n",
    "- is 와 == 연산자 차이\n",
    "\n",
    "    - is : 가리키는 객체 자체가 같은 경우 True  \n",
    "    - == : 가리키는 값들이 같은 경우 True"
   ]
  },
  {
   "cell_type": "code",
   "execution_count": 146,
   "metadata": {},
   "outputs": [
    {
     "name": "stdout",
     "output_type": "stream",
     "text": [
      "140316369939312 140316369939032 140316369939312\n",
      "False\n",
      "False\n",
      "True\n",
      "True\n"
     ]
    }
   ],
   "source": [
    "class check_id:\n",
    "    pass\n",
    "\n",
    "name_1=check_id()\n",
    "name_2=check_id()\n",
    "name_3=name_1\n",
    "print(id(name_1),id(name_2),id(name_3))\n",
    "print(name_1 is name_2)\n",
    "print(name_1 == name_2)\n",
    "print(name_1 is name_3)\n",
    "print(name_1 == name_3)"
   ]
  },
  {
   "cell_type": "markdown",
   "metadata": {},
   "source": [
    "### 과제\n",
    "    - 사전조건: Keyword 클래스를 생성\n",
    "    - 클래스 인자로 영어 단어 한 개를 받습니다.\n",
    "    - attribute: 영어 단어\n",
    "    - method: 연산자 오버로딩 - len() : 영어 단어 길이 리턴\n",
    "\n",
    "1. Keyword 클래스로 10개의 임의 영어 단어를 가지고 각각 객체로 만들어서 하나의 리스트에 넣습니다.(위 예 참조)\n",
    "2. 영어 단어 길이를 기준으로 리스트를 정렬하기\n",
    "    - \\__len\\__(self) 정의하기\n",
    "    - sorted 함수와 lambda 로 길이 순 정렬 기법\n",
    "\n",
    "3. 영어 단어의 두 번째 알파벳을 기준으로 리스트를 정렬하기\n",
    "    - \\__getitem\\__(self, key) 정의하기\n",
    "\n"
   ]
  },
  {
   "cell_type": "code",
   "execution_count": 151,
   "metadata": {},
   "outputs": [
    {
     "name": "stdout",
     "output_type": "stream",
     "text": [
      "hi\n",
      "bye\n",
      "hello\n",
      "hello\n",
      "hi\n",
      "bye\n"
     ]
    }
   ],
   "source": [
    "class Keyword:\n",
    "    def __init__(self,keyword):\n",
    "        self.keyword=keyword\n",
    "    def __len__(self):\n",
    "        return len(self.keyword)\n",
    "    def __getitem__(self,index):\n",
    "        return self.keyword[index]\n",
    "    def get_word(self):\n",
    "        return self.keyword \n",
    "hi = Keyword('hi')\n",
    "hello = Keyword('hello')\n",
    "bye = Keyword('bye')\n",
    "\n",
    "keywords=[hi,hello,bye]\n",
    "\n",
    "keywords=sorted(keywords,key=lambda x:len(x))\n",
    "for i in keywords:\n",
    "    print(i.get_word())\n",
    "    \n",
    "keywords=sorted(keywords,key=lambda x:x[1])\n",
    "for i in keywords:\n",
    "    print(i.get_word())"
   ]
  },
  {
   "cell_type": "markdown",
   "metadata": {},
   "source": [
    "### 다중상속\n",
    "- 다중 상속: 2개 이상의 클래스를 상속받는 경우\n",
    "- 상속 받은 모든 클래스의 attribute 와 method 를 모두 사용 가능\n"
   ]
  },
  {
   "cell_type": "code",
   "execution_count": 153,
   "metadata": {},
   "outputs": [
    {
     "name": "stdout",
     "output_type": "stream",
     "text": [
      "sleep\n",
      "study hard\n",
      "work hard\n",
      "Find a job\n"
     ]
    }
   ],
   "source": [
    "class Person:\n",
    "    def sleep(self):\n",
    "        print('sleep')\n",
    "        \n",
    "class Student(Person):\n",
    "    def study(self):\n",
    "        print('study hard')\n",
    "\n",
    "class Worker(Person):\n",
    "    def work(self):\n",
    "        print('work hard')\n",
    "\n",
    "class PartTimer(Student,Worker):\n",
    "    def find_job(self):\n",
    "        print('Find a job')\n",
    "        \n",
    "me = PartTimer()\n",
    "me.sleep()\n",
    "me.study()\n",
    "me.work()\n",
    "me.find_job()"
   ]
  },
  {
   "cell_type": "code",
   "execution_count": 155,
   "metadata": {},
   "outputs": [
    {
     "name": "stdout",
     "output_type": "stream",
     "text": [
      "sleep\n",
      "study\n",
      "work\n",
      "play soccer\n",
      "find job\n"
     ]
    }
   ],
   "source": [
    "class Person:\n",
    "    def sleep(self):\n",
    "        print('sleep')\n",
    "        \n",
    "class Student(Person):\n",
    "    def study(self):\n",
    "        print('study')\n",
    "    \n",
    "    def play(self):\n",
    "        print('play soccer')\n",
    "\n",
    "class Worker(Person):\n",
    "    def work(self):\n",
    "        print('work')\n",
    "        \n",
    "    def play(self):\n",
    "        print('play along')\n",
    "        \n",
    "class PartTimer(Student,Worker): #다중 상속된 클래스의 나열 순서가 자식 클래스가 속성(멤버변수,메서드) 호출에 영향을 \n",
    "                                 #줌 상속된 클래스 중 앞에 나열된 클래스부터 속성을 찾음\n",
    "    def find_job(self):\n",
    "        print('find job')\n",
    "        \n",
    "me=PartTimer()\n",
    "me.sleep()\n",
    "me.study()\n",
    "me.work()\n",
    "me.play()\n",
    "me.find_job()"
   ]
  },
  {
   "cell_type": "markdown",
   "metadata": {},
   "source": [
    "#### super()내장함수를 사용하면 해결할 수 있음"
   ]
  },
  {
   "cell_type": "code",
   "execution_count": 160,
   "metadata": {},
   "outputs": [
    {
     "name": "stdout",
     "output_type": "stream",
     "text": [
      "person\n",
      "worker\n",
      "student\n",
      "parttime\n"
     ]
    }
   ],
   "source": [
    "class Person:\n",
    "    def __init__(self):\n",
    "        print('person')\n",
    "        \n",
    "class Student(Person):\n",
    "    def __init__(self):\n",
    "        super().__init__()\n",
    "        print('student')\n",
    "        \n",
    "class Worker(Person):\n",
    "    def __init__(self):\n",
    "        super().__init__()\n",
    "        print('worker')\n",
    "\n",
    "class PartTime(Student, Worker):\n",
    "    def __init__(self):\n",
    "        super().__init__()\n",
    "        print('parttime')\n",
    "\n",
    "me=PartTime()"
   ]
  },
  {
   "cell_type": "code",
   "execution_count": 161,
   "metadata": {},
   "outputs": [
    {
     "data": {
      "text/plain": [
       "[__main__.PartTime, __main__.Student, __main__.Worker, __main__.Person, object]"
      ]
     },
     "execution_count": 161,
     "metadata": {},
     "output_type": "execute_result"
    }
   ],
   "source": [
    "PartTime.mro()"
   ]
  },
  {
   "cell_type": "markdown",
   "metadata": {},
   "source": [
    "### 포함(composition)\n",
    "- 다른 클래스의 일부 기능을 그대로 이용하고 싶으나, 전체 기능 상속은 피하고 싶을 때 사용\n",
    "- Composition 또는 Aggregation 이라고도 한다.\n",
    "\n",
    "- 상속관계가 복잡할 경우, 코드 이해가 어려운 경우가 많음\n",
    "\n",
    "- 컴포지션은 명시적 선언, 상속은 암시적 선언\n",
    "- 다만, 컴포지션, 상속에 대한 개념 이해는 역시나 한번에 이해하고, 활용하기는 어려움"
   ]
  },
  {
   "cell_type": "code",
   "execution_count": 166,
   "metadata": {},
   "outputs": [],
   "source": [
    "#Calc 클래스에서 Calc2의 multiply() 메서드를 활용하고 싶지만, Calc2 전체를 상속 받고 싶지는 않음\n",
    "\n",
    "class Calc:\n",
    "    def __init__(self,x,y):\n",
    "        self.x=x\n",
    "        self.y=y\n",
    "        \n",
    "    def add(self):\n",
    "        return self.x+self.y\n",
    "    \n",
    "    def subtract(self):\n",
    "        return self.x-self.y\n",
    "    \n",
    "class Calc_2:\n",
    "    def __init__(self,x,y):\n",
    "        self.x=x\n",
    "        self.y=y\n",
    "        \n",
    "    def add(self):\n",
    "        return self.x+self.y\n",
    "    \n",
    "    def multiply(self):\n",
    "        return self.x*self.y\n",
    "    "
   ]
  },
  {
   "cell_type": "code",
   "execution_count": 167,
   "metadata": {},
   "outputs": [],
   "source": [
    "class Calc:\n",
    "    def __init__(self,x,y):\n",
    "        self.x=x\n",
    "        self.y=y\n",
    "        self.calc_2=Calc_2(x,y) # 해당 클래스의 객체를 명시적으로 가져옴\n",
    "        \n",
    "    def add(self):\n",
    "        return self.x+self.y\n",
    "    \n",
    "    def multiply(self):\n",
    "        return self.calc_2.multiply() #해당 클래스의 객체에 있는 메서드를 명시적으로 활용함"
   ]
  },
  {
   "cell_type": "code",
   "execution_count": 169,
   "metadata": {},
   "outputs": [
    {
     "name": "stdout",
     "output_type": "stream",
     "text": [
      "2\n",
      "6\n"
     ]
    }
   ],
   "source": [
    "calc_1 = Calc(1, 2)\n",
    "print(calc_1.multiply())\n",
    "calc_2 = Calc(x=2, y=3)  # 함수 인자와 마찬가지로 직접 인자명과 값을 써도 됨\n",
    "print(calc_2.multiply())"
   ]
  },
  {
   "cell_type": "markdown",
   "metadata": {},
   "source": [
    "### 협업 과제\n",
    "클래스 설계해보기  \n",
    "1. 게임 캐릭터 클래스 만들기\n",
    "    - attribute: name, health_point, striking_power, defensive_power\n",
    "    - attribute 명시적 입력이 없으면, name='yourname', health_point=100, striking_power=3, defensive_power=3이 디폴트로 입력되도록 함\n",
    "    - method: info() - 게임 캐릭터 name, health_point, striking_power, defensive_power 출력\n",
    "    - 다음 시나리오가 동작할 수 있도록 작성\n",
    "    \n",
    "2. 게임 캐릭터는 다음과 같이 3명이 존재함  \n",
    "\n",
    "    Warrior\n",
    "     - attack: 상대방 객체를 입력받아서, '칼로 찌르다' 출력하고, 상대방의 receive 메서드를 호출해서, striking_power만큼 상대방의 health_point를 낮춰준다.\n",
    "     - receive: 상대방의 striking_point를 입력으로 받아서, 자신의 health_point를 그만큼 낮추기, health_point가 0 이하이면 '죽었음' 출력  \n",
    "     \n",
    "    Elf\n",
    "     - attack: 상대방 객체를 입력받아서, '마법을 쓰다' 출력하고, 상대방의 receive 메서드를 호출해서, striking_power만큼 상대방의 health_point를 낮춰준다.\n",
    "     - receive: 상대방의 striking_point를 입력으로 받아서, 자신의 health_point를 그만큼 낮추기, health_point가 0 이하이면 '죽었음' 출력 \n",
    "     - wear_manteau: 1번 공격을 막는다.  \n",
    "     \n",
    "    Wizard\n",
    "     - attack: 상대방 객체를 입력받아서, '마법을 쓰다' 출력하고, 상대방의 receive 메서드를 호출해서, striking_power만큼 상대방의 health_point를 낮춰준다.\n",
    "     - receive: 상대방의 striking_point를 입력으로 받아서, 자신의 health_point를 그만큼 낮추기, health_point가 0 이하이면 '죽었음' 출력 \n",
    "     - use_wizard: 자신의 health_point를 3씩 올려준다."
   ]
  },
  {
   "cell_type": "code",
   "execution_count": 253,
   "metadata": {},
   "outputs": [],
   "source": [
    "class Characher:\n",
    "    characher_cnt=0\n",
    "    \n",
    "    def __init__(self,name='yourname',health_point=100,striking_power=3,defensive_power=3):\n",
    "        self.name=name\n",
    "        self.health_point=health_point\n",
    "        self.striking_power=striking_power\n",
    "        self.defensive_power=defensive_power\n",
    "        self.recover_point=health_point\n",
    "        \n",
    "    def get_info(self):\n",
    "        print(self.name,self.health_point)\n",
    "        print(self.striking_power,self.defensive_power)\n",
    "        \n",
    "    def recover(self):\n",
    "        self.health_point=self.recover_point\n",
    "        \n",
    "    def howmany(self):\n",
    "        print(Characher.characher_cnt)\n",
    "        \n",
    "    def change_name(self,name):\n",
    "        self.name=name\n",
    "\n",
    "class Warrior(Characher):\n",
    "    def __init__(self,name='yourname'):\n",
    "        super().__init__(name=name,defensive_power=1)\n",
    "        Characher.characher_cnt+=1\n",
    "        \n",
    "    def attack(self,second):\n",
    "        print('칼로 찌르다')\n",
    "        second.receive(striking_power)\n",
    "\n",
    "    def receive(self,striking_power):\n",
    "        self.health_point-=striking_power\n",
    "        if self.health_point<=0:\n",
    "            print('전사 죽음')\n",
    "            \n",
    "\n",
    "class Elf(Characher):\n",
    "    def __init__(self,name='yourname'):\n",
    "        super().__init__(name=name,striking_power=1)\n",
    "        self.wear_manteau=0\n",
    "        Characher.characher_cnt+=1\n",
    "        \n",
    "    def attack(self,second):\n",
    "        print('마법을 쓰다')\n",
    "        second.receive(self.striking_power)\n",
    "\n",
    "    def receive(self,striking_power):\n",
    "        if self.wear_manteau==0:\n",
    "            self.health_point-=striking_power\n",
    "            if self.health_point<=0:\n",
    "                print('앨프 죽음')\n",
    "        if self.wear_manteau>0:\n",
    "            self.wear_manteau-=1\n",
    "            print('방어 성공')\n",
    "            \n",
    "    def get_manteau(self):\n",
    "        self.wear_manteau+=1\n",
    "    \n",
    "class Wizard(Characher):\n",
    "    def __init__(self,name='yourname'):\n",
    "        super().__init__(name=name,striking_power=2, defensive_power=2)\n",
    "        Characher.characher_cnt+=1\n",
    "        \n",
    "    def attack(self,second):\n",
    "        print('마법을 쓰다')\n",
    "        second.receive(self.striking_power)\n",
    "        \n",
    "    def receive(self,striking_power):\n",
    "        self.health_point-=striking_power\n",
    "        if self.heath_point<=0:\n",
    "            print('법사 죽음')\n",
    "    \n",
    "    def use_wizard(self):\n",
    "        self.health_point+=3"
   ]
  },
  {
   "cell_type": "code",
   "execution_count": 254,
   "metadata": {
    "scrolled": true
   },
   "outputs": [
    {
     "name": "stdout",
     "output_type": "stream",
     "text": [
      "me 100\n",
      "1 3\n",
      "3\n"
     ]
    }
   ],
   "source": [
    "a=Warrior('a')\n",
    "b=Wizard('b')\n",
    "me=Elf('me')\n",
    "me.get_info()\n",
    "#for i in range(100):\n",
    "#    me.attack(a)\n",
    "me.howmany()"
   ]
  },
  {
   "cell_type": "code",
   "execution_count": 256,
   "metadata": {},
   "outputs": [
    {
     "name": "stdout",
     "output_type": "stream",
     "text": [
      "you 100\n",
      "1 3\n"
     ]
    }
   ],
   "source": [
    "me.change_name('you')\n",
    "me.get_info()"
   ]
  },
  {
   "cell_type": "code",
   "execution_count": 264,
   "metadata": {},
   "outputs": [
    {
     "name": "stdout",
     "output_type": "stream",
     "text": [
      "data(filename='file', object='pet') file\n",
      "file pet\n"
     ]
    }
   ],
   "source": [
    "from collections import namedtuple\n",
    "\n",
    "data=namedtuple('data',['filename','object'])\n",
    "\n",
    "data_1=data('file','pet')\n",
    "print(data_1,data_1[0])\n",
    "name, id =data_1\n",
    "print(name, id)"
   ]
  },
  {
   "cell_type": "code",
   "execution_count": 271,
   "metadata": {},
   "outputs": [
    {
     "name": "stdout",
     "output_type": "stream",
     "text": [
      "yoseph yoseph\n",
      "24 24\n",
      "student student\n"
     ]
    }
   ],
   "source": [
    "class Employee:\n",
    "    def __init__(self, name, age, org):\n",
    "        self.name=name\n",
    "        self.age=age\n",
    "        self.org=org\n",
    "        \n",
    "me=Employee('yoseph',24,'student')\n",
    "\n",
    "from collections import namedtuple\n",
    "\n",
    "test=namedtuple('test',['name','age','org'])\n",
    "you=test('yoseph',24,'student')\n",
    "\n",
    "print(me.name, you.name)\n",
    "print(me.age, you.age)\n",
    "print(me.org, you.org)"
   ]
  },
  {
   "cell_type": "code",
   "execution_count": null,
   "metadata": {},
   "outputs": [],
   "source": []
  }
 ],
 "metadata": {
  "kernelspec": {
   "display_name": "Python 3.6.10 64-bit ('keras': conda)",
   "language": "python",
   "name": "python361064bitkerasconda55ebfc9aef9846b787f96969ddddc812"
  },
  "language_info": {
   "codemirror_mode": {
    "name": "ipython",
    "version": 3
   },
   "file_extension": ".py",
   "mimetype": "text/x-python",
   "name": "python",
   "nbconvert_exporter": "python",
   "pygments_lexer": "ipython3",
   "version": "3.6.10"
  }
 },
 "nbformat": 4,
 "nbformat_minor": 4
}
