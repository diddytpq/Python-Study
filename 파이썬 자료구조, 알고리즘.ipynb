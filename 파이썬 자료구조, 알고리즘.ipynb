{
 "cells": [
  {
   "cell_type": "markdown",
   "metadata": {},
   "source": [
    "## 데이터 구조(Data Structure)와 알고리즘(Algorithm)이란?\n",
    "\n",
    "1. Data Structure(데이터 구조)  \n",
    "    - 대량 데이터를 효율적으로 관리할 수 있는 데이터 구조, 자료구조라고도 한다.\n",
    "    - 효율적인 데이터 처리를 위해, 데이터의 특성에 따라, 체계적으로 데이터를 구조화 하는것  \n",
    "    \n",
    "    - 효율적으로 데이터를 관리하는 예: \n",
    "    \n",
    "    \n",
    "        - 우편번호: 5자리 유편번호로 국가의 기초구역을 제공       \n",
    "            - 5자리 우편번호에서 앞 3자리는 시,군, 자치구를 표기, 뒤 2자리는 일련 번호로 구성  \n",
    "            \n",
    "        - 학생관리: 학년, 반, 번호를 학생에게 부여해서, 학생부를 관리\n",
    "    "
   ]
  },
  {
   "cell_type": "markdown",
   "metadata": {},
   "source": [
    "### 알고리즘(Algorithm)이란?\n",
    "\n",
    "- 알고리즘: 어떤 문제를 풀기 위한 절차/방법\n",
    "- 어떤 문제에 대해, 특정한 '입력'을 넣으면, 원하는 '출력'을 얻을 수 있도록 만든 프로그래밍"
   ]
  },
  {
   "cell_type": "markdown",
   "metadata": {},
   "source": [
    "#### 프로그래밍 연습\n",
    "정수의 절대값을 구하는 프로그램 작성해보기\n",
    "위 그림을 확인하면서, 작성한 프로그램과 비교해보기"
   ]
  },
  {
   "cell_type": "code",
   "execution_count": 3,
   "metadata": {},
   "outputs": [
    {
     "name": "stdout",
     "output_type": "stream",
     "text": [
      "1 1\n"
     ]
    }
   ],
   "source": [
    "def change_abs(num):\n",
    "    if num>0:\n",
    "        return num\n",
    "    if num<0:\n",
    "        return -num\n",
    "    \n",
    "print(change_abs(-1),change_abs(1))\n"
   ]
  },
  {
   "cell_type": "markdown",
   "metadata": {},
   "source": [
    "#### 알고리즘 복잡도 표현 방법\n",
    "\n",
    "1. 알고리즘 복잡도 계산이 필요한 이유\n",
    "    - 하나의 문제를 푸는 알고리즘은 다양할 수 있음 \n",
    "    - 정수의 절대값 구하기  \n",
    "        -방법1: 정수값을 제곱한 값에 다시 루트를 씌우기  \n",
    "        -방법2: 정수가 음수인지 확인해서, 음수일 때만, -1을 곱하기  \n",
    "2. 알고리즘 복잡도 계산 항목\n",
    "    - 시간 복잡도: 알고리즘 실행 속도  \n",
    "    - 공간 복잡도: 알고리즘이 사용하는 메모리 사이즈 \n",
    "    \n",
    "    가장 중요한 시간 복잡도를 꼭 이해하고 계산할 수 있어야 함  \n",
    "\n",
    "\n",
    "3. 알고리즘 시간 복잡도의 주요 요소\n",
    "    - 반복문이 지배합니다."
   ]
  },
  {
   "cell_type": "markdown",
   "metadata": {},
   "source": [
    "### 알고리즘 성능 표기법\n",
    "\n",
    "##### Big O (빅-오) 표기법: O(N)\n",
    "\n",
    "- 알고리즘 최악의 실행 시간을 표기\n",
    "- 가장 많이/일반적으로 사용함\n",
    "- 아무리 최악의 상황이라도, 이정도의 성능은 보장한다는 의미이기 때문\n",
    "\n",
    "##### Ω (오메가) 표기법: Ω(N)\n",
    "\n",
    "- 오메가 표기법은 알고리즘 최상의 실행 시간을 표기\n",
    "\n",
    "##### Θ (세타) 표기법: Θ(N)\n",
    "\n",
    "- 오메가 표기법은 알고리즘 평균 실행 시간을 표기"
   ]
  },
  {
   "cell_type": "markdown",
   "metadata": {},
   "source": [
    "#### 연습1: 1부터 n까지의 합을 구하는 알고리즘 작성해보기"
   ]
  },
  {
   "cell_type": "code",
   "execution_count": 8,
   "metadata": {},
   "outputs": [
    {
     "data": {
      "text/plain": [
       "5050"
      ]
     },
     "execution_count": 8,
     "metadata": {},
     "output_type": "execute_result"
    }
   ],
   "source": [
    "def sum_num(num):\n",
    "    tot=0\n",
    "    for i in range(1,num+1):\n",
    "        tot+=i\n",
    "    return tot\n",
    "sum_num(100)\n",
    "\n",
    "# 1부터 n까지의 합을 구하는 알고리즘1\n",
    "# 입력 n에 따라 덧셈을 n 번 해야 함 (반복문!)\n",
    "# 시간 복잡도: n, 빅 오 표기법으로는 O(n)"
   ]
  },
  {
   "cell_type": "markdown",
   "metadata": {},
   "source": [
    "#### 알고리즘2: 1부터 n까지의 합을 구하는 알고리즘2\n",
    "n(n+1)/2\n",
    "\n"
   ]
  },
  {
   "cell_type": "code",
   "execution_count": 9,
   "metadata": {},
   "outputs": [
    {
     "data": {
      "text/plain": [
       "5050.0"
      ]
     },
     "execution_count": 9,
     "metadata": {},
     "output_type": "execute_result"
    }
   ],
   "source": [
    "def sum_num(num):\n",
    "    return num*(num+1)/2\n",
    "\n",
    "sum_num(100)\n",
    "\n",
    "#1부터 n까지의 합을 구하는 알고리즘2\n",
    "# 입력 n이 어떻든 간에, 곱셈/덧셈/나눗셈 하면 됨 (반복문이 없음!)\n",
    "# 시간 복잡도: 1, 빅 오 표기법으로는 O(1)"
   ]
  },
  {
   "cell_type": "markdown",
   "metadata": {},
   "source": [
    "### 대표적인 자료구조: 배열(Array)\n",
    "\n",
    "- 데이터를 나열하고, 각 데이터를 인덱스에 대응하도록 구성한 데이터 구조\n",
    "- 파이썬에서는 리스트 타입이 배열 기능을 제공하고 있음"
   ]
  },
  {
   "cell_type": "code",
   "execution_count": 13,
   "metadata": {},
   "outputs": [
    {
     "name": "stdout",
     "output_type": "stream",
     "text": [
      "[1, 2, 3, 4, 5]\n",
      "[[1, 2, 3], [4, 5, 6], [7, 8, 9]]\n",
      "1 5\n"
     ]
    }
   ],
   "source": [
    "# 1차원 배열\n",
    "data=[1,2,3,4,5]\n",
    "print(data)\n",
    "\n",
    "#2차원 배열\n",
    "data=[[1,2,3],[4,5,6],[7,8,9]]\n",
    "print(data)\n",
    "print(data[0][0],data[1][1])\n"
   ]
  },
  {
   "cell_type": "markdown",
   "metadata": {},
   "source": [
    "##### 연습1: 위의 2차원 배열에서 9, 8, 7 순서로 출력해보기\n",
    "##### 연습2: 다음 dataset 에서 전체 이름 안에 M이 몇번 나왔는지 빈도수 출력하기"
   ]
  },
  {
   "cell_type": "code",
   "execution_count": 14,
   "metadata": {},
   "outputs": [
    {
     "name": "stdout",
     "output_type": "stream",
     "text": [
      "9 8 7\n"
     ]
    }
   ],
   "source": [
    "print(data[2][2],data[2][1],data[2][0])"
   ]
  },
  {
   "cell_type": "code",
   "execution_count": 30,
   "metadata": {},
   "outputs": [
    {
     "data": {
      "text/plain": [
       "38"
      ]
     },
     "execution_count": 30,
     "metadata": {},
     "output_type": "execute_result"
    }
   ],
   "source": [
    "dataset = ['Braund, Mr. Owen Harris',\n",
    "'Cumings, Mrs. John Bradley (Florence Briggs Thayer)',\n",
    "'Heikkinen, Miss. Laina',\n",
    "'Futrelle, Mrs. Jacques Heath (Lily May Peel)',\n",
    "'Allen, Mr. William Henry',\n",
    "'Moran, Mr. James',\n",
    "'McCarthy, Mr. Timothy J',\n",
    "'Palsson, Master. Gosta Leonard',\n",
    "'Johnson, Mrs. Oscar W (Elisabeth Vilhelmina Berg)',\n",
    "'Nasser, Mrs. Nicholas (Adele Achem)',\n",
    "'Sandstrom, Miss. Marguerite Rut',\n",
    "'Bonnell, Miss. Elizabeth',\n",
    "'Saundercock, Mr. William Henry',\n",
    "'Andersson, Mr. Anders Johan',\n",
    "'Vestrom, Miss. Hulda Amanda Adolfina',\n",
    "'Hewlett, Mrs. (Mary D Kingcome) ',\n",
    "'Rice, Master. Eugene',\n",
    "'Williams, Mr. Charles Eugene',\n",
    "'Vander Planke, Mrs. Julius (Emelia Maria Vandemoortele)',\n",
    "'Masselmani, Mrs. Fatima',\n",
    "'Fynney, Mr. Joseph J',\n",
    "'Beesley, Mr. Lawrence',\n",
    "'McGowan, Miss. Anna \"Annie\"',\n",
    "'Sloper, Mr. William Thompson',\n",
    "'Palsson, Miss. Torborg Danira',\n",
    "'Asplund, Mrs. Carl Oscar (Selma Augusta Emilia Johansson)',\n",
    "'Emir, Mr. Farred Chehab',\n",
    "'Fortune, Mr. Charles Alexander',\n",
    "'Dwyer, Miss. Ellen \"Nellie\"',\n",
    "'Todoroff, Mr. Lalio']\n",
    "\n",
    "def find_M(data_set):\n",
    "    cnt=0\n",
    "    for data in data_set:\n",
    "        for i in range(len(data)):\n",
    "            if data[i]=='M':\n",
    "                cnt+=1\n",
    "    return cnt\n",
    "find_M(dataset)"
   ]
  },
  {
   "cell_type": "markdown",
   "metadata": {},
   "source": [
    "### 대표적인 자료구조: 큐(Queue)\n",
    "- 줄을 서는 행위와 유사\n",
    "- 가장 먼저 넣은 데이터를 가장 먼저 꺼낼 수 있는 구조\n",
    "- 음식점에서 가장 먼저 줄을 선 사람이 제일 먼저 음식점에 입장하는 것과 동일\n",
    "- FIFO(First-In, First-Out) 또는 LILO(Last-In, Last-Out) 방식으로 스택과 꺼내는 순서가 반대"
   ]
  },
  {
   "cell_type": "code",
   "execution_count": 36,
   "metadata": {},
   "outputs": [
    {
     "data": {
      "text/plain": [
       "3"
      ]
     },
     "execution_count": 36,
     "metadata": {},
     "output_type": "execute_result"
    }
   ],
   "source": [
    "import queue\n",
    "\n",
    "#Queue(): 가장 일반적인 큐 자료 구조\n",
    "\n",
    "\n",
    "data_queue = queue.Queue()\n",
    "data_queue.put('yoseph')\n",
    "data_queue.put(3)\n",
    "data_queue.qsize()\n",
    "data_queue.get() #yoseph\n",
    "data_queue.get() #3"
   ]
  },
  {
   "cell_type": "code",
   "execution_count": 40,
   "metadata": {},
   "outputs": [
    {
     "data": {
      "text/plain": [
       "'yoseph'"
      ]
     },
     "execution_count": 40,
     "metadata": {},
     "output_type": "execute_result"
    }
   ],
   "source": [
    "import queue\n",
    "#LifoQueue(): 나중에 입력된 데이터가 먼저 출력되는 구조 (스택 구조라고 보면 됨)\n",
    "data_queue=queue.LifoQueue()\n",
    "data_queue.put('yoseph')\n",
    "data_queue.put(3)\n",
    "data_queue.get() #3\n",
    "data_queue.get() #yoseph"
   ]
  },
  {
   "cell_type": "code",
   "execution_count": 45,
   "metadata": {},
   "outputs": [
    {
     "data": {
      "text/plain": [
       "'korea'"
      ]
     },
     "execution_count": 45,
     "metadata": {},
     "output_type": "execute_result"
    }
   ],
   "source": [
    "import queue\n",
    "\n",
    "#PriorityQueue(): 데이터마다 우선순위를 넣어서, 우선순위가 높은 순으로 데이터 출력\n",
    "\n",
    "data_queue=queue.PriorityQueue()\n",
    "data_queue.put((10,'yoseph'))\n",
    "data_queue.put((5,1))\n",
    "data_queue.put((15,'korea'))\n",
    "\n",
    "data_queue.get() #(5,1)\n",
    "data_queue.get() #(10, 'yoseph')\n",
    "data_queue.get() #(15,'korea')"
   ]
  },
  {
   "cell_type": "markdown",
   "metadata": {},
   "source": [
    "#### 대표적인 자료구조: 스택(Stack)\n",
    "\n",
    "- 데이터를 제한적으로 접근할 수 있는 구조\n",
    "    - 한쪽 끝에서만 자료를 넣거나 뺄 수 있는 구조\n",
    "- 가장 나중에 쌓은 데이터를 가장 먼저 빼낼 수 있는 데이터 구조\n"
   ]
  },
  {
   "cell_type": "markdown",
   "metadata": {},
   "source": [
    "### 6. 대표적인 자료구조: 링크드 리스트 (Linked List)\n",
    "#### 1. 링크드 리스트 (Linked List) 구조\n",
    "- 연결 리스트라고도 함\n",
    "- 배열은 순차적으로 연결된 공간에 데이터를 나열하는 데이터 구조\n",
    "- 링크드 리스트는 떨어진 곳에 존재하는 데이터를 화살표로 연결해서 관리하는 데이터 구조\n",
    "- 본래 C언어에서는 주요한 데이터 구조이지만, 파이썬은 리스트 타입이 링크드 리스트의 기능을 모두 지원\n",
    "- 링크드 리스트 기본 구조와 용어\n",
    "- 노드(Node): 데이터 저장 단위 (데이터값, 포인터) 로 구성\n",
    "- 포인터(pointer): 각 노드 안에서, 다음이나 이전의 노드와의 연결 정보를 가지고 있는 공간\n"
   ]
  },
  {
   "cell_type": "code",
   "execution_count": 50,
   "metadata": {},
   "outputs": [],
   "source": [
    "class Node:\n",
    "    def __init__(self,data,next=None):\n",
    "        self.data=data\n",
    "        self.next=next\n",
    "        \n",
    "def add(data):\n",
    "    node=head\n",
    "    while node.next:\n",
    "        node=node.next\n",
    "    node.next=Node(data)\n",
    "    \n",
    "node_1=Node(1)\n",
    "#node_2=Node()\n",
    "#node_1.next=node_2\n",
    "head=node_1\n",
    "for i in range(2,10):\n",
    "    add(i)"
   ]
  },
  {
   "cell_type": "code",
   "execution_count": 47,
   "metadata": {},
   "outputs": [
    {
     "name": "stdout",
     "output_type": "stream",
     "text": [
      "1\n",
      "2\n",
      "3\n",
      "4\n",
      "5\n",
      "6\n",
      "7\n",
      "8\n",
      "9\n"
     ]
    }
   ],
   "source": [
    "node=head\n",
    "while node.next:\n",
    "    print(node.data)\n",
    "    node=node.next\n",
    "print(node.data)"
   ]
  },
  {
   "cell_type": "code",
   "execution_count": 64,
   "metadata": {},
   "outputs": [
    {
     "name": "stdout",
     "output_type": "stream",
     "text": [
      "a a\n",
      "s s\n",
      "True\n"
     ]
    }
   ],
   "source": [
    "import queue\n",
    "def palindrome(data):\n",
    "    data_list=list()\n",
    "    data_queue=queue.Queue()\n",
    "    \n",
    "    for i in range(len(data)):\n",
    "        data_list.append(data[i])\n",
    "        data_queue.put(data[i])\n",
    "        \n",
    "    for i in range(len(data)//2):\n",
    "        x=data_list.pop()\n",
    "        y=data_queue.get()\n",
    "        print(x,y)\n",
    "        if x!=y:\n",
    "            return False\n",
    "    return True\n",
    "    \n",
    "print(palindrome('asdsa'))"
   ]
  },
  {
   "cell_type": "code",
   "execution_count": 69,
   "metadata": {},
   "outputs": [],
   "source": [
    "def palindrome(data):\n",
    "    data_list=list()\n",
    "    for i in range(len(data)):\n",
    "        data_list.append(data[i])\n",
    "    \n",
    "    for i in range(len(data)//2):\n",
    "        if data_list[i]!=data_list[-i-1]:\n",
    "            return False\n",
    "    return True"
   ]
  },
  {
   "cell_type": "code",
   "execution_count": 71,
   "metadata": {},
   "outputs": [
    {
     "name": "stdout",
     "output_type": "stream",
     "text": [
      "False\n"
     ]
    }
   ],
   "source": [
    "print(palindrome('1234'))"
   ]
  },
  {
   "cell_type": "markdown",
   "metadata": {},
   "source": [
    "### 대표적인 자료구조: 트리\n",
    "1. 트리 (Tree) 구조\n",
    "    - 트리: Node와 Branch를 이용해서, 사이클을 이루지 않도록 구성한 데이터 구조\n",
    "    - 실제로 어디에 많이 사용되나?\n",
    "    - 트리 중 이진 트리 (Binary Tree) 형태의 구조로, 탐색(검색) 알고리즘 구현을 위해 많이 사용됨\n",
    "2. 알아둘 용어\n",
    "    - Node: 트리에서 데이터를 저장하는 기본 요소 (데이터와 다른 연결된 노드에 대한 Branch 정보 포함)\n",
    "    - Root Node: 트리 맨 위에 있는 노드\n",
    "    - Level: 최상위 노드를 Level 0으로 하였을 때, 하위 Branch로 연결된 노드의 깊이를 나타냄\n",
    "    - Parent Node: 어떤 노드의 다음 레벨에 연결된 노드\n",
    "    - Child Node: 어떤 노드의 상위 레벨에 연결된 노드\n",
    "    - Leaf Node (Terminal Node): Child Node가 하나도 없는 노드\n",
    "    - Sibling (Brother Node): 동일한 Parent Node를 가진 노드\n",
    "    - Depth: 트리에서 Node가 가질 수 있는 최대 Level"
   ]
  },
  {
   "cell_type": "markdown",
   "metadata": {},
   "source": [
    "#### 이진 트리와 이진 탐색 트리 (Binary Search Tree)\n",
    "- 이진 트리: 노드의 최대 Branch가 2인 트리\n",
    "- 이진 탐색 트리 (Binary Search Tree, BST): 이진 트리에 다음과 같은 추가적인 조건이 있는 트리\n",
    "- 왼쪽 노드는 해당 노드보다 작은 값, 오른쪽 노드는 해당 노드보다 큰 값을 가지고 있음!\n",
    "\n",
    "- 주요 용도: 데이터 검색(탐색)\n",
    "- 장점: 탐색 속도를 개선할 수 있음"
   ]
  },
  {
   "cell_type": "code",
   "execution_count": 220,
   "metadata": {},
   "outputs": [],
   "source": [
    "class Node:\n",
    "    def __init__(self,value):\n",
    "        self.value=value\n",
    "        self.left,self.right= None, None\n",
    "\n",
    "class NodeMgmt:\n",
    "    def __init__(self,head):\n",
    "        self.head=head\n",
    "        \n",
    "    def insert(self,value):\n",
    "        self.current_node=self.head\n",
    "        while True:\n",
    "            if value<self.current_node.value:\n",
    "                if self.current_node.left != None:\n",
    "                        self.current_node=self.current_node.left\n",
    "                else:\n",
    "                    self.current_node.left=Node(value)\n",
    "                    break\n",
    "            else:\n",
    "                if self.current_node.right != None:\n",
    "                    self.current_node=self.current_node.right\n",
    "                else:\n",
    "                    self.current_node.right = Node(value)\n",
    "                    break\n",
    "                    \n",
    "    def search(self,value):\n",
    "        self.current_node=self.head\n",
    "        self.cnt=0\n",
    "        while self.current_node:\n",
    "            if self.current_node.value==value:\n",
    "                print(self.cnt)\n",
    "                return True\n",
    "            elif value<self.current_node.value:\n",
    "                self.current_node=self.current_node.left\n",
    "                self.cnt+=1\n",
    "            else:\n",
    "                self.current_node=self.current_node.right\n",
    "                self.cnt+=1\n",
    "            \n",
    "        return False\n",
    "    \n",
    "    def delete(self, value):\n",
    "        searched= False\n",
    "        self.current_node,self.parent=self.head,self.head\n",
    "        \n",
    "        while self.current_node:\n",
    "            if self.current_node.value == value:\n",
    "                searched=True\n",
    "                break\n",
    "            \n",
    "            elif self.current_node.value>value:\n",
    "                self.parent=self.current_node\n",
    "                self.current_node=self.current_node.left\n",
    "                \n",
    "            else:\n",
    "                self.parent=self.current_node\n",
    "                self.current_node=self.current_node.right\n",
    "        \n",
    "        if searched==False:\n",
    "            return False\n",
    "    \n",
    "        #case1: 삭제할 Node가 Leaf Node의 경우\n",
    "        if self.current_node.left==None and self.current_node.right==None:\n",
    "            if value<self.parent.value:\n",
    "                self.parent.left=None\n",
    "            else:\n",
    "                self.parent.right=None\n",
    "        \n",
    "        #case2: 삭제할 node가 child node를 한개 가지고 있는 경우\n",
    "        elif self.current_node.left!=None and self.current_node.right==None:\n",
    "            if value<self.parent.value:\n",
    "                self.parent.left=self.current_node.left\n",
    "            else:\n",
    "                self.parent.right=self.current_node.left\n",
    "                \n",
    "        elif self.current_node.left==None and self.current_node.right!=None:\n",
    "            if value<self.parent.value:\n",
    "                self.parent.left=self.current_node.right\n",
    "            else:\n",
    "                self.parent.right=self.current_node.right\n",
    "                \n",
    "        #case3-1:삭제할 node가 child node를 두개 가지고 있을 경우(삭제할 node가 parent노드 왼족에 있을경우)\n",
    "        \n",
    "        elif self.current_node.left!=None and self.current_node.right!=None:\n",
    "            if value <self.parent.value:\n",
    "                self.change_node=self.current_node.right\n",
    "                self.change_node_parent=self.current_node.right\n",
    "                \n",
    "                while self.change_node.left!=None:\n",
    "                    self.change_node.parent=self.change_node\n",
    "                    self.change_node=self.change_node.left\n",
    "                print(self.change_node.value)    \n",
    "                self.change_node_parent.left=None\n",
    "                if self.change_node.right!=None:\n",
    "                    self.change_node_parent.left=self.change_node.right\n",
    "                self.parent.left=self.change_node\n",
    "                self.change_node.right=self.current_node.right\n",
    "                self.change_node.left=self.current_node.left\n",
    "           \n",
    "        #case3-2:삭제할 node가 child node를 두개 가지고 있을 경우(삭제할 node가 parent노드 오른쪽에 있을경우)\n",
    "        \n",
    "            else:\n",
    "                self.change_node=self.current_node.right\n",
    "                self.change_node_parent=self.current_node.right\n",
    "                \n",
    "                while self.change_node.left!=None:\n",
    "                    self.change_node_parent=self.change_node\n",
    "                    self.change_node=self.change_node.left\n",
    "                print(self.change_node.value) \n",
    "                self.change_node_parent.left=None\n",
    "                \n",
    "                if self.change_node.right!=None:\n",
    "                    self.change_node.left=self.change_node.right\n",
    "                \n",
    "                self.parent.right=self.change_node\n",
    "                self.change_node.right=self.current_node.right\n",
    "                self.change_node.left=self.current_node.left\n",
    "                \n",
    "        return True\n",
    "                \n",
    "                \n",
    "head=Node(21)\n",
    "binary_tree=NodeMgmt(head)\n",
    "binary_tree.insert(14)\n",
    "binary_tree.insert(28)\n",
    "binary_tree.insert(11)\n",
    "binary_tree.insert(18)\n",
    "binary_tree.insert(5)\n",
    "binary_tree.insert(12)\n",
    "binary_tree.insert(15)\n",
    "binary_tree.insert(19)\n",
    "binary_tree.insert(25)\n",
    "binary_tree.insert(32)\n",
    "binary_tree.insert(23)\n",
    "binary_tree.insert(27)\n",
    "binary_tree.insert(30)\n",
    "binary_tree.insert(37)\n",
    "\n"
   ]
  },
  {
   "cell_type": "code",
   "execution_count": 221,
   "metadata": {},
   "outputs": [
    {
     "name": "stdout",
     "output_type": "stream",
     "text": [
      "19\n"
     ]
    },
    {
     "data": {
      "text/plain": [
       "True"
      ]
     },
     "execution_count": 221,
     "metadata": {},
     "output_type": "execute_result"
    }
   ],
   "source": [
    "binary_tree.delete(18)"
   ]
  },
  {
   "cell_type": "code",
   "execution_count": 222,
   "metadata": {},
   "outputs": [
    {
     "name": "stdout",
     "output_type": "stream",
     "text": [
      "3\n"
     ]
    },
    {
     "data": {
      "text/plain": [
       "True"
      ]
     },
     "execution_count": 222,
     "metadata": {},
     "output_type": "execute_result"
    }
   ],
   "source": [
    "binary_tree.search(15)"
   ]
  },
  {
   "cell_type": "code",
   "execution_count": 243,
   "metadata": {},
   "outputs": [],
   "source": [
    "class Node:\n",
    "    def __init__(self,value):\n",
    "        self.value=value\n",
    "        self.left=None\n",
    "        self.right=None\n",
    "        \n",
    "class NodeMgmt:\n",
    "    def __init__(self,head):\n",
    "        self.head=head\n",
    "        \n",
    "    def insert(self,value):\n",
    "        self.current_node=self.head\n",
    "        \n",
    "        while True:\n",
    "            if value<self.current_node.value:\n",
    "                if self.current_node.left!=None:\n",
    "                    self.current_node=self.current_node.left\n",
    "                \n",
    "                else:\n",
    "                    self.current_node.left=Node(value)\n",
    "                    break\n",
    "            else:\n",
    "                if self.current_node.right!=None:\n",
    "                    self.current_node=self.current_node.right\n",
    "                    \n",
    "                else:\n",
    "                    self.current_node.right=Node(value)\n",
    "                    break\n",
    "\n",
    "\n",
    "    def search(self,value):\n",
    "        self.current_node=self.head\n",
    "        self.cnt=0\n",
    "        while self.current_node:\n",
    "            if self.current_node.value==value:\n",
    "                print(self.cnt)\n",
    "                return True\n",
    "            elif value<self.current_node.value:\n",
    "                self.current_node=self.current_node.left\n",
    "                self.cnt+=1\n",
    "            else:\n",
    "                self.current_node=self.current_node.right\n",
    "                self.cnt+=1\n",
    "            \n",
    "        return False\n",
    "    \n",
    "    def delete(self,value):\n",
    "        self.seached=False\n",
    "        self.current_node=self.head\n",
    "        self.parent_node=self.head\n",
    "        \n",
    "        while self.current_node:\n",
    "            if value==self.current_node.value:\n",
    "                self.seached=True\n",
    "                break\n",
    "            elif value<self.current_node.value:\n",
    "                self.parent_node=self.current_node\n",
    "                self.current_node=self.current_node.left\n",
    "            else:\n",
    "                self.parent_node=self.current_node\n",
    "                self.current_node=self.current_node.right\n",
    "                \n",
    "        if self.seached==False: return False\n",
    "        \n",
    "        if self.seached==True:\n",
    "            if self.current_node.left==None and self.current_node.right==None:\n",
    "                if value<self.parent_node.value:\n",
    "                    self.parent_node.left=None\n",
    "                else:\n",
    "                    self.parent_node.right=None\n",
    "            \n",
    "            elif self.current_node.left!=None and self.current_node.right==None:\n",
    "                if value<self.parent_node.value:\n",
    "                    self.parent_node.left=self.current_node.left\n",
    "                else:\n",
    "                    self.parent_node.right=self.current_node.left\n",
    "                \n",
    "                \n",
    "            elif self.current_node.right!=None and self.current_node.left==None:\n",
    "                if value<self.parent_node.value:\n",
    "                    self.parent_node.left=self.current_node.right\n",
    "                else:\n",
    "                    self.parent_node.right=self.current_node.right\n",
    "                    \n",
    "            elif self.current_node.left!=None and self.current_node.right!=None:\n",
    "                if value<self.parent_node.value:\n",
    "                    self.change_node=self.current_node.right\n",
    "                    self.change_parent_node=self.current_node.right\n",
    "                    \n",
    "                    while self.change.left!=None:\n",
    "                        self.change_parent_node=self.change_node\n",
    "                        self.chagne_node=self.change_node.left\n",
    "                        \n",
    "                    if self.change_node.right!=None:\n",
    "                        self.change_parent_node.left=self.change_node.right\n",
    "                    else:\n",
    "                        self.change_parent_node.left=None\n",
    "                    \n",
    "                    self.parent_node.left=self.change_node\n",
    "                    self.change_node.right=self.current_node.right\n",
    "                    self.chagne_node.left=self.current_node.left\n",
    "                    \n",
    "                else:\n",
    "                    self.change_node=self.current_node.right\n",
    "                    self.change_parent_node=self.current_node.right\n",
    "                    \n",
    "                    while self.change_node.left!=None:\n",
    "                        self.change_parent_node=self.change_node\n",
    "                        self.chagne_node=self.change_node.left\n",
    "                        \n",
    "                    if self.change_node.right!=None:\n",
    "                        self.change_parent_node.left=self.change_node.right\n",
    "                        \n",
    "                    else:\n",
    "                        self.change_parent_node.left=None\n",
    "                        \n",
    "                    self.parent_node.right=self.change_node\n",
    "                    self.change_node.right=self.current_node.right\n",
    "                    self.change_node.left=self.current_node.left"
   ]
  },
  {
   "cell_type": "code",
   "execution_count": 244,
   "metadata": {},
   "outputs": [],
   "source": [
    "head=Node(21)\n",
    "binary_tree=NodeMgmt(head)\n",
    "binary_tree.insert(14)\n",
    "binary_tree.insert(28)\n",
    "binary_tree.insert(11)\n",
    "binary_tree.insert(18)\n",
    "binary_tree.insert(5)\n",
    "binary_tree.insert(12)\n",
    "binary_tree.insert(15)\n",
    "binary_tree.insert(19)\n",
    "binary_tree.insert(25)\n",
    "binary_tree.insert(32)\n",
    "binary_tree.insert(23)\n",
    "binary_tree.insert(27)\n",
    "binary_tree.insert(30)\n",
    "binary_tree.insert(37)"
   ]
  },
  {
   "cell_type": "code",
   "execution_count": 245,
   "metadata": {},
   "outputs": [
    {
     "name": "stdout",
     "output_type": "stream",
     "text": [
      "3\n"
     ]
    },
    {
     "data": {
      "text/plain": [
       "False"
      ]
     },
     "execution_count": 245,
     "metadata": {},
     "output_type": "execute_result"
    }
   ],
   "source": [
    "binary_tree.search(15)\n",
    "binary_tree.delete(15)\n",
    "binary_tree.search(15)"
   ]
  },
  {
   "cell_type": "markdown",
   "metadata": {},
   "source": [
    "### 대표적인 자료구조: 힙 (Heap)\n",
    "1. 힙 (Heap) 이란?\n",
    "    - 힙: 데이터에서 최대값과 최소값을 빠르게 찾기 위해 고안된 완전 이진 트리(Complete Binary Tree)\n",
    "    - 완전 이진 트리: 노드를 삽입할 때 최하단 왼쪽 노드부터 차례대로 삽입하는 트리\n",
    "    \n",
    "    \n",
    "2. 힙 (Heap) 구조\n",
    "    - 힙은 최대값을 구하기 위한 구조 (최대 힙, Max Heap) 와, 최소값을 구하기 위한 구조 (최소 힙, Min Heap) 로 분류할 수 있음\n",
    "    - 힙은 다음과 같이 두 가지 조건을 가지고 있는 자료구조임\n",
    "    - 각 노드의 값은 해당 노드의 자식 노드가 가진 값보다 크거나 같다. (최대 힙의 경우)\n",
    "    - 최소 힙의 경우는 각 노드의 값은 해당 노드의 자식 노드가 가진 값보다 크거나 작음\n",
    "    - 완전 이진 트리 형태를 가짐\n",
    "    \n",
    "4. 힙 구현\n",
    "- 힙과 배열\n",
    "    - 일반적으로 힙 구현시 배열 자료구조를 활용함\n",
    "    - 배열은 인덱스가 0번부터 시작하지만, 힙 구현의 편의를 위해, root 노드 인덱스 번호를 1로 지정하면, 구현이 좀더 수월함\n",
    "    - 부모 노드 인덱스 번호 (parent node's index) = 자식 노드 인덱스 번호 (child node's index) // 2\n",
    "    - 왼쪽 자식 노드 인덱스 번호 (left child node's index) = 부모 노드 인덱스 번호 (parent node's index) * 2\n",
    "    - 오른쪽 자식 노드 인덱스 번호 (right child node's index) = 부모 노드 인덱스 번호 (parent node's"
   ]
  },
  {
   "cell_type": "code",
   "execution_count": 407,
   "metadata": {},
   "outputs": [],
   "source": [
    "#Max Heap\n",
    "\n",
    "class Heap:\n",
    "    def __init__(self,data):\n",
    "        self.heap_array=list()\n",
    "        self.heap_array.append(None) #인덱스 번호를 1번부터\n",
    "        self.heap_array.append(data)\n",
    "    \n",
    "    def move_up(self,inserted_idx):\n",
    "        if inserted_idx <= 1:\n",
    "            return False\n",
    "        parent_idx=inserted_idx//2\n",
    "        if self.heap_array[inserted_idx]>self.heap_array[parent_idx]:\n",
    "            return True\n",
    "        else:\n",
    "            return False\n",
    "        \n",
    "        \n",
    "    def swap(self,parnet_idx,child_idx):\n",
    "        return self.heap_array[child_idx], self.heap_array[parnet_idx]\n",
    "        \n",
    "    \n",
    "    def insert(self,data):\n",
    "        '''if len(self.heap_array)==1:\n",
    "            self.heap_array.append(data)\n",
    "            return True'''\n",
    "        \n",
    "        self.heap_array.append(data)\n",
    "        inserted_idx=len(self.heap_array)-1\n",
    "        \n",
    "        while self.move_up(inserted_idx):\n",
    "            parent_idx=inserted_idx//2\n",
    "            self.heap_array[inserted_idx], self.heap_array[parent_idx]=self.heap_array[parent_idx],self.heap_array[inserted_idx]\n",
    "            inserted_idx=parent_idx\n",
    "        \n",
    "        return True\n",
    "        \n",
    "    def pop(self):\n",
    "        if len(self.heap_array)<=2:\n",
    "            return self.heap_array\n",
    "        return_data=self.heap_array[1]\n",
    "        self.heap_array[1]=self.heap_array[-1]\n",
    "        del self.heap_array[-1]\n",
    "        popped_idx=1\n",
    "        \n",
    "        while True:\n",
    "            if popped_idx*2>=len(self.heap_array)-1 or popped_idx*2+1>=len(self.heap_array)-1:\n",
    "                \n",
    "                if self.heap_array[popped_idx]<self.heap_array[len(self.heap_array)-1]:\n",
    "                    self.heap_array[popped_idx],self.heap_array[len(self.heap_array)-1]= self.heap_array[len(self.heap_array)-1],self.heap_array[popped_idx]\n",
    "                \n",
    "                                                                \n",
    "                if len(self.heap_array)>3:\n",
    "                    if self.heap_array[popped_idx]<self.heap_array[len(self.heap_array)-2]:\n",
    "                        self.heap_array[popped_idx],self.heap_array[len(self.heap_array)-2]= self.heap_array[len(self.heap_array)-2],self.heap_array[popped_idx]\n",
    "\n",
    "                \n",
    "                break\n",
    "\n",
    "            elif self.heap_array[popped_idx*2] >self.heap_array[popped_idx*2+1]:            \n",
    "                if self.heap_array[popped_idx]<self.heap_array[popped_idx*2]:\n",
    "                    self.heap_array[popped_idx],self.heap_array[popped_idx*2]= self.heap_array[popped_idx*2],self.heap_array[popped_idx]\n",
    "                    popped_idx*=2\n",
    "                    print(popped_idx)\n",
    "                \n",
    "\n",
    "            else:\n",
    "                if self.heap_array[popped_idx*2]<self.heap_array[popped_idx*2+1]:\n",
    "                    self.heap_array[popped_idx],self.heap_array[popped_idx*2+1]= self.heap_array[popped_idx*2+1],self.heap_array[popped_idx]\n",
    "                    popped_idx=popped_idx*2+1\n",
    "                    print(popped_idx)\n",
    "\n",
    "                \n",
    "\n"
   ]
  },
  {
   "cell_type": "code",
   "execution_count": 408,
   "metadata": {},
   "outputs": [
    {
     "data": {
      "text/plain": [
       "[None, 20, 10, 15, 5, 4, 8]"
      ]
     },
     "execution_count": 408,
     "metadata": {},
     "output_type": "execute_result"
    }
   ],
   "source": [
    "heap = Heap(15)\n",
    "heap.insert(10)\n",
    "heap.insert(8)\n",
    "heap.insert(5)\n",
    "heap.insert(4)\n",
    "heap.insert(20)\n",
    "heap.heap_array"
   ]
  },
  {
   "cell_type": "code",
   "execution_count": 414,
   "metadata": {},
   "outputs": [
    {
     "data": {
      "text/plain": [
       "[None, 4]"
      ]
     },
     "execution_count": 414,
     "metadata": {},
     "output_type": "execute_result"
    }
   ],
   "source": [
    "heap.pop()\n",
    "heap.heap_array"
   ]
  },
  {
   "cell_type": "markdown",
   "metadata": {},
   "source": [
    "### 대표적인 정렬1 : 버블 정렬(bubble sort)\n",
    "\n",
    "1. 정렬이란 \n",
    "    - 정렬: 어떤 데이터들이 주어졌을때 이를 정해진 순서대로 나열하는 것\n",
    "    - 정렬은 프로그램 작성시 빈번하게 필요로 함\n",
    "    - 다양한 알고리즘이 고안 되었으며, 알고리즘 학습의 필수\n",
    "\n",
    "2. 버블 정렬이란?\n",
    "    - 두 인접한 데이터를 비교해서, 앞에 있는 데이터가 뒤에 있는 데이터보다 크면, 자리를 바꾸는 정렬 알고리즘"
   ]
  },
  {
   "cell_type": "code",
   "execution_count": 427,
   "metadata": {},
   "outputs": [
    {
     "name": "stdout",
     "output_type": "stream",
     "text": [
      "[1, 2, 3, 4, 5, 6, 7, 8, 10, 12, 13, 15, 16, 19, 22, 24, 25, 26, 27, 31, 32, 33, 34, 35, 36, 40, 42, 43, 44, 45, 48, 51, 52, 55, 59, 64, 66, 67, 69, 73, 76, 81, 82, 83, 87, 88, 90, 92, 94, 95]\n"
     ]
    }
   ],
   "source": [
    "import random\n",
    "\n",
    "def bubble_sort(num_list):\n",
    "    while True:\n",
    "        check=0\n",
    "        for i in range(len(num_list)-1):\n",
    "            if num_list[i]>num_list[i+1]:\n",
    "                num_list[i],num_list[i+1]=num_list[i+1],num_list[i]\n",
    "                check+=1\n",
    "            \n",
    "        if check==0:\n",
    "            break\n",
    "        \n",
    "        \n",
    "\n",
    "    return num_list\n",
    "\n",
    "\n",
    "data_list=random.sample(range(100),50)\n",
    "\n",
    "print(bubble_sort(data_list))"
   ]
  },
  {
   "cell_type": "markdown",
   "metadata": {},
   "source": [
    "### 대표적인 정렬2: 삽입 정렬(insertion sort)\n",
    "\n",
    "1. 삽입정렬이란?\n",
    "    - 삽입 정렬은 두 번째 인덱스부터 시작\n",
    "    - 해당 인덱스(key 값) 앞에 있는 데이터(B)부터 비교해서 key 값이 더 작으면, B값을 뒤 인덱스로 복사\n",
    "    - 이를 key 값이 더 큰 데이터를 만날때까지 반복, 그리고 큰데이터를 만난 위치 바로 뒤에 key값을 이동\n",
    "    \n",
    "    -https://visualgo.net/en/sorting"
   ]
  },
  {
   "cell_type": "code",
   "execution_count": 564,
   "metadata": {},
   "outputs": [
    {
     "name": "stdout",
     "output_type": "stream",
     "text": [
      "[0, 1, 2, 3, 4, 5, 6, 7, 8, 9, 10, 11, 12, 13, 14, 15, 16, 17, 18, 19, 20, 21, 22, 23, 24, 25, 26, 27, 28, 29, 30, 31, 32, 33, 34, 35, 36, 37, 38, 39, 40, 41, 42, 43, 44, 45, 46, 47, 48, 49]\n"
     ]
    }
   ],
   "source": [
    "import random\n",
    "\n",
    "def insertion_sort(num_list):\n",
    "       \n",
    "    for i in range(1,len(num_list)):\n",
    "        key=num_list[i]\n",
    "        for j in range(i,0,-1):\n",
    "            if key<num_list[j-1]:\n",
    "                num_list[j],num_list[j-1]=num_list[j-1],num_list[j]\n",
    "                \n",
    "            else:\n",
    "                break\n",
    "                \n",
    "    return num_list\n",
    "\n",
    "data_list=random.sample(range(50),50)\n",
    "\n",
    "print(insertion_sort(data_list))\n",
    "                \n",
    "                \n",
    "                \n",
    "                \n",
    "                \n",
    "                \n",
    "                "
   ]
  },
  {
   "cell_type": "markdown",
   "metadata": {},
   "source": [
    "### 대표적인 정렬3: 선택 정렬(selection sort)\n",
    "\n",
    "1. 선택정렬이란?\n",
    "    - 주어진 데이터 중, 정렬하는 알고리즘\n",
    "    - 해당 최소값을 데이터 맨 앞에 위치한 값과 교체함\n",
    "    - 맨 앞의 위치를 뺀 나머지 데이터를 동일한 방법으로 반복함"
   ]
  },
  {
   "cell_type": "code",
   "execution_count": 448,
   "metadata": {},
   "outputs": [
    {
     "data": {
      "text/plain": [
       "[1, 3, 7, 13, 18, 20, 23, 26, 27, 28]"
      ]
     },
     "execution_count": 448,
     "metadata": {},
     "output_type": "execute_result"
    }
   ],
   "source": [
    "import random\n",
    "\n",
    "def selection_sort(num_list):\n",
    " \n",
    "    for i in range(len(num_list)-1):\n",
    "        min_index=i\n",
    "        for j in range(i,len(num_list)):\n",
    "            if num_list[j]<num_list[min_index]:\n",
    "                min_index=j\n",
    "            \n",
    "        num_list[i],num_list[min_index]=num_list[min_index],num_list[i]\n",
    "            \n",
    "    return num_list\n",
    "\n",
    "data_list=random.sample(range(30),10)\n",
    "\n",
    "selection_sort(data_list)\n",
    "        \n",
    "    \n",
    "                   \n",
    "                    "
   ]
  },
  {
   "cell_type": "markdown",
   "metadata": {},
   "source": [
    "###  재귀용법(recursive call, 재귀 호출)\n",
    "\n",
    "1. 재귀 용법\n",
    "    - 함수 안에서 동일한 함수를 호출하는 형태\n",
    "    - 여러 알고리즘 작성시 사용되므로, 익숙해저야한다."
   ]
  },
  {
   "cell_type": "code",
   "execution_count": 452,
   "metadata": {},
   "outputs": [
    {
     "data": {
      "text/plain": [
       "24"
      ]
     },
     "execution_count": 452,
     "metadata": {},
     "output_type": "execute_result"
    }
   ],
   "source": [
    "def factorial(num):\n",
    "    if num==1:\n",
    "        return num\n",
    "    elif num>1:\n",
    "        return num*factorial(num-1)\n",
    "    \n",
    "    \n",
    "factorial(4)"
   ]
  },
  {
   "cell_type": "markdown",
   "metadata": {},
   "source": [
    "프로그래밍 연습\n",
    "- 다음 함수를 재귀 함수를 활용해서 완성해서 1부터 num까지의 곱이 출력되게 만드세요"
   ]
  },
  {
   "cell_type": "code",
   "execution_count": 463,
   "metadata": {},
   "outputs": [
    {
     "name": "stdout",
     "output_type": "stream",
     "text": [
      "9\n",
      "8\n",
      "7\n",
      "6\n",
      "5\n",
      "4\n",
      "3\n",
      "2\n"
     ]
    },
    {
     "data": {
      "text/plain": [
       "362880"
      ]
     },
     "execution_count": 463,
     "metadata": {},
     "output_type": "execute_result"
    }
   ],
   "source": [
    "def multiple(num):\n",
    "    if num==1:\n",
    "        return 1\n",
    "    else:\n",
    "        print(num)\n",
    "        return num*multiple(num-1)\n",
    "\n",
    "    \n",
    "multiple(9)"
   ]
  },
  {
   "cell_type": "markdown",
   "metadata": {},
   "source": [
    "프로그래밍 연습\n",
    "- 숫자가 들어 있는 리스트가 주어졌을 때, 리스트의 합을 리턴하는 함수를 만드세요"
   ]
  },
  {
   "cell_type": "code",
   "execution_count": 486,
   "metadata": {},
   "outputs": [
    {
     "name": "stdout",
     "output_type": "stream",
     "text": [
      "[44, 71, 3, 67, 36, 64, 22, 45, 5, 25]\n"
     ]
    },
    {
     "data": {
      "text/plain": [
       "382"
      ]
     },
     "execution_count": 486,
     "metadata": {},
     "output_type": "execute_result"
    }
   ],
   "source": [
    "import random\n",
    "\n",
    "def sum_list(num_list,total=0):\n",
    "    num=len(num_list)\n",
    "    total+=num_list[-1]\n",
    "    if num==1:\n",
    "        return total\n",
    "    \n",
    "    else:\n",
    "        return sum_list(num_list[:num-1],total)\n",
    "\n",
    "    \n",
    "def sum_list_2(num_list):\n",
    "    if len(num_list)==1:\n",
    "        return num_list[0]\n",
    "    else:\n",
    "        return num_list[0]+sum_list(num_list[1:])\n",
    "\n",
    "num_list=[44, 71, 3, 67, 36, 64, 22, 45, 5, 25]\n",
    "#random.sample(range(100),10)\n",
    "print(num_list)\n",
    "sum_list(num_list)\n",
    "sum_list_2(num_list)"
   ]
  },
  {
   "cell_type": "code",
   "execution_count": 480,
   "metadata": {},
   "outputs": [
    {
     "name": "stdout",
     "output_type": "stream",
     "text": [
      "382\n"
     ]
    }
   ],
   "source": [
    "def sum_list(num_list):\n",
    "    total=0\n",
    "    for i in range(len(num_list)):\n",
    "        total+=num_list[i]\n",
    "        \n",
    "    return total\n",
    "print(sum_list([44, 71, 3, 67, 36, 64, 22, 45, 5, 25]))"
   ]
  },
  {
   "cell_type": "markdown",
   "metadata": {},
   "source": [
    "프로그래밍 연습\n",
    "- 회문(palindrome)은 순서를 거꾸로 읽어도 제대로 읽은 것과 같은 단어와 문장을 의미함\n",
    "- 회문을 판별할 수 있는 함수를 리스트 슬라이싱을 활용해서 만드세요"
   ]
  },
  {
   "cell_type": "code",
   "execution_count": 499,
   "metadata": {},
   "outputs": [
    {
     "name": "stdout",
     "output_type": "stream",
     "text": [
      "True\n",
      "False\n"
     ]
    }
   ],
   "source": [
    "def palindrome(str_list):\n",
    "    \n",
    "\n",
    "    if len(str_list)<=1:\n",
    "        return True\n",
    "    \n",
    "    if str_list[0]!=str_list[-1]:\n",
    "        return False\n",
    "    else:\n",
    "        return palindrome(str_list[1:-1])\n",
    "\n",
    "print(palindrome('moooom'))\n",
    "print(palindrome('motor'))"
   ]
  },
  {
   "cell_type": "markdown",
   "metadata": {},
   "source": [
    "프로그래밍 연습\n",
    "1. 정수 n에 대해\n",
    "2. n이 홀수이면 3 X n + 1 을 하고,\n",
    "3. n이 짝수이면 n 을 2로 나눕니다.\n",
    "4. 이렇게 계속 진행해서 n 이 결국 1이 될 때까지 2와 3의 과정을 반복합니다."
   ]
  },
  {
   "cell_type": "code",
   "execution_count": 503,
   "metadata": {},
   "outputs": [
    {
     "name": "stdout",
     "output_type": "stream",
     "text": [
      "10\n",
      "5.0\n",
      "16.0\n",
      "8.0\n",
      "4.0\n",
      "2.0\n",
      "1.0\n"
     ]
    },
    {
     "data": {
      "text/plain": [
       "True"
      ]
     },
     "execution_count": 503,
     "metadata": {},
     "output_type": "execute_result"
    }
   ],
   "source": [
    "def func(num):\n",
    "    print(num)\n",
    "    if num==1:\n",
    "        return True\n",
    "    \n",
    "    if num%2!=0:\n",
    "        return func(3*num+1)\n",
    "    else:\n",
    "        return func(num/2)\n",
    "    \n",
    "func(10)"
   ]
  },
  {
   "cell_type": "markdown",
   "metadata": {},
   "source": [
    "프로그래밍 연습\n",
    "- 문제: 정수 4를 1, 2, 3의 조합으로 나타내는 방법은 다음과 같이 총 7가지가 있음\n",
    "- 1+1+1+1\n",
    "- 1+1+2\n",
    "- 1+2+1\n",
    "- 2+1+1\n",
    "- 2+2\n",
    "- 1+3\n",
    "- 3+1\n",
    "- 정수 n이 입력으로 주어졌을 때, n을 1, 2, 3의 합으로 나타낼 수 있는 방법의 수를 구하시오"
   ]
  },
  {
   "cell_type": "code",
   "execution_count": 509,
   "metadata": {},
   "outputs": [
    {
     "data": {
      "text/plain": [
       "13"
      ]
     },
     "execution_count": 509,
     "metadata": {},
     "output_type": "execute_result"
    }
   ],
   "source": [
    "def func(num):\n",
    "    num_list=[1,2,4]\n",
    "    \n",
    "    for i in range(2,num-1):\n",
    "        num_list.append(sum(num_list[i-2:i+1]))\n",
    "    \n",
    "    return num_list[num-1]\n",
    "        \n",
    "func(5)"
   ]
  },
  {
   "cell_type": "code",
   "execution_count": 507,
   "metadata": {},
   "outputs": [
    {
     "data": {
      "text/plain": [
       "13"
      ]
     },
     "execution_count": 507,
     "metadata": {},
     "output_type": "execute_result"
    }
   ],
   "source": [
    "def f(data):\n",
    "    if data < 0:\n",
    "        return 0\n",
    "    if data == 0:\n",
    "        return 1\n",
    "    elif data == 1:\n",
    "        return 1\n",
    "    elif data == 2:\n",
    "        return 2\n",
    "    elif data == 3:\n",
    "        return 4\n",
    "    \n",
    "    return f(data - 1) + f(data - 2) + f(data - 3)\n",
    "f(5)"
   ]
  },
  {
   "cell_type": "markdown",
   "metadata": {},
   "source": [
    "### 동적 계획법(Dynamic Programming)과 분할정복(Divide and conquer)\n",
    "\n",
    "1. 동적계획법(DP)\n",
    "    \n",
    "    - 입력 크기가 작은 부분 문제들을 해결한 후, 해당 부분 문제의 해를 활용해서, 보다 큰 크기의 부분 문제를 해결, 최종적으로 전체 문제를 해결하는 알고리즘\n",
    "    - 상향식 접근법으로, 가장 최하위 해답을 구한 후, 이를 저장하고, 해당 결과 값을 이용해서 상위 문제를 풀어가는 방식\n",
    "    - Memoization 기법을 사용함\n",
    "        - Memoization: 프로그램 실행 시 이전에 계산한 값을 저장하여, 다시 계산하지 앉도록 하여 전체 실행 속도를 빠르게 하는 기술\n",
    "    - 문제를 잘게 쪼갤 때, 부분 문제는 중복되어, 재활용됨\n",
    "        - 피보나치 수열\n",
    "2. 분할 정복\n",
    "    - 문제를 나눌 수 없을 때까지 나누어 각각을 풀면서 다시 합벼하여 문제의 답을 얻는 알고리즘 \n",
    "    - 하양식 접근법으로ㅡ 상위의 해답을 구하기 위해, 아래로 내려가면서 하위의 해답을 구하는 방식\n",
    "        - 일반적으로 재귀함수로 구현\n",
    "    - 문제를 잘게 쪼갤 때, 부분 문제는 서로 중복되지 않음\n",
    "        - 병합 정렬 퀵 정렬 등\n",
    "        \n",
    "3. 공통점과 차이점 \n",
    "\n",
    "    공통점\n",
    "    - 문제를 잘게 쪼개서, 가장 작은 단위로 분할\n",
    "    \n",
    "    \n",
    "    차이점 \n",
    "     동적 계획법  \n",
    "    - 부분 문제는 중복되어, 상위 문제 해결시 재활용됨\n",
    "    - Memoization 기법 사용(부분 문제의 해답을 저장해서 재활용 하는 최적화 기법으로 사용)  \n",
    "    \n",
    "     분할 정복\n",
    "    - 부분 문제는 서로 중복되지 않음\n",
    "    - Memoization 기법 사용 안함\n",
    "        "
   ]
  },
  {
   "cell_type": "markdown",
   "metadata": {},
   "source": [
    "프로그래밍 연습\n",
    "- 피보나치 수열: n 을 입력받아서 다음과 같이 계산됨\n",
    "- n 을 입력받았을 때 피보나치 수열로 결과값을 출력하세요"
   ]
  },
  {
   "cell_type": "code",
   "execution_count": 512,
   "metadata": {},
   "outputs": [
    {
     "data": {
      "text/plain": [
       "55"
      ]
     },
     "execution_count": 512,
     "metadata": {},
     "output_type": "execute_result"
    }
   ],
   "source": [
    "#동적 계획법 활용\n",
    "\n",
    "def fibo_dp(num):\n",
    "    cache=[0 for index in range(num+1)]\n",
    "    cache[0]=0\n",
    "    cache[1]=1\n",
    "    \n",
    "    for i in range(2,num+1):\n",
    "        cache[i]=cache[i-1]+cache[i-2]\n",
    "    return cache[num]\n",
    "\n",
    "fibo_dp(10)"
   ]
  },
  {
   "cell_type": "markdown",
   "metadata": {},
   "source": [
    "### 대표적인 정렬4: 병합 정렬(merge sort)\n",
    "\n",
    "- 재귀용법을 활용한 정렬 알고리즘\n",
    "1. 리스트를 절반으로 잘라 비슷한 크기의 두 부분 리스트로 나눈다.\n",
    "2. 각 부분 리스트를 재귀적으로 합병 정렬을 이용해 정렬한다.\n",
    "3. 두 부분 리스트를 다시 하나의 정렬된 리스트로 합병한다.\n"
   ]
  },
  {
   "cell_type": "code",
   "execution_count": 533,
   "metadata": {},
   "outputs": [],
   "source": [
    "def merge_split(num_list):\n",
    "    length=len(num_list)\n",
    "    \n",
    "    if length==1:\n",
    "        return num_list\n",
    "    list_1=num_list[:length//2]\n",
    "    list_2=num_list[length//2:]\n",
    "    \n",
    "    return merge_sort(list_1, list_2)\n",
    "\n",
    "\n",
    "\n",
    "def merge_sort(list_1,list_2):\n",
    "    \n",
    "    merge_list=[]\n",
    "    left,right=0,0\n",
    "    print(list_1, list_2)\n",
    "    while len(list_1)>left and len(list_2)>right:\n",
    "        print(merge_list)\n",
    "        if list_1[left]>list_2[right]:\n",
    "            merge_list.append(list_2[right])\n",
    "            right+=1\n",
    "        else:\n",
    "            merge_list.append(list_1[left])\n",
    "            left+=1\n",
    "            \n",
    "    while len(list_1)>left:\n",
    "        merge_list.append(list_1[left])\n",
    "        left+=1\n",
    "        \n",
    "    while len(list_2)>right:\n",
    "        merge_list.append(list_2[right])\n",
    "        right+=1\n",
    "    return merge_list\n",
    "            \n",
    "    "
   ]
  },
  {
   "cell_type": "code",
   "execution_count": 535,
   "metadata": {},
   "outputs": [
    {
     "name": "stdout",
     "output_type": "stream",
     "text": [
      "[1, 3] [2, 5]\n",
      "[]\n",
      "[1]\n",
      "[1, 2]\n"
     ]
    },
    {
     "data": {
      "text/plain": [
       "[1, 2, 3, 5]"
      ]
     },
     "execution_count": 535,
     "metadata": {},
     "output_type": "execute_result"
    }
   ],
   "source": [
    "merge_split([1,3,2,5])\n"
   ]
  },
  {
   "cell_type": "markdown",
   "metadata": {},
   "source": [
    "### 대표적인 정렬5: 퀵 정렬(quick sort)\n",
    "\n",
    "- 정렬 알고리즘의 꽃\n",
    "- 기준점(povot)을 정해서, 기준점 보다 작은 데이터는 왼쪽, 큰 데이터는 오른쪽으로 모으는 함수를 작성함\n",
    "- 각 왼쪽, 오른쪽은 재귀용법을 사용해서 다시 동일 함수를 후출하여 위 작업을 반복함\n",
    "- 함수는 왼쪽+기준점+오른쪽을 리턴함"
   ]
  },
  {
   "cell_type": "code",
   "execution_count": 540,
   "metadata": {},
   "outputs": [
    {
     "name": "stdout",
     "output_type": "stream",
     "text": [
      "[1, 2, 4, 5, 7]\n"
     ]
    }
   ],
   "source": [
    "data_list = [4, 1, 2, 5, 7]\n",
    "pivot=[data_list[0]]\n",
    "left=[]\n",
    "right=[]\n",
    "\n",
    "for i in data_list[1:]:\n",
    "    if data_list[0]<i:\n",
    "        right.append(i)\n",
    "    else:\n",
    "        left.append(i)\n",
    "print(left+pivot+right)"
   ]
  },
  {
   "cell_type": "code",
   "execution_count": 546,
   "metadata": {},
   "outputs": [
    {
     "name": "stdout",
     "output_type": "stream",
     "text": [
      "[2, 7, 8, 10, 15, 18, 24, 31, 40, 42]\n"
     ]
    }
   ],
   "source": [
    "import random\n",
    "\n",
    "def quick_sort(num_list):\n",
    "    if len(num_list)<=1:\n",
    "        return num_list\n",
    "    pivot=num_list[0]\n",
    "    left=[]\n",
    "    right=[]\n",
    "    \n",
    "    for i in num_list[1:]:\n",
    "        if pivot>i:\n",
    "            left.append(i)\n",
    "        else:\n",
    "            right.append(i)\n",
    "            \n",
    "    return quick_sort(left)+[pivot]+quick_sort(right)\n",
    "\n",
    "data_list=random.sample(range(50),10)\n",
    "\n",
    "print(quick_sort(data_list))"
   ]
  },
  {
   "cell_type": "markdown",
   "metadata": {},
   "source": [
    "### 순차 탐색(Sequential Search)\n",
    "\n",
    "- 탐색은 여러 데이터 중에서 원하는 데이터를 찾아내는 것을 의미\n",
    "- 데이터가 담겨있는 리스트를 앞에서부터 하나씩 비교해서 원하는 데이터를 찾는 방법"
   ]
  },
  {
   "cell_type": "code",
   "execution_count": 552,
   "metadata": {},
   "outputs": [
    {
     "name": "stdout",
     "output_type": "stream",
     "text": [
      "2\n"
     ]
    }
   ],
   "source": [
    "def sequential_search(data_list,search_data):\n",
    "    for i in range(len(data_list)):\n",
    "        if data_list[i]==search_data:\n",
    "            return i\n",
    "    return False\n",
    "\n",
    "data_list=[1,2,3,4,5]\n",
    "\n",
    "print(sequential_search(data_list,3))\n",
    "#O(n)\n",
    "            "
   ]
  },
  {
   "cell_type": "markdown",
   "metadata": {},
   "source": [
    "### 이진 탐색(Binary Search)\n",
    "\n",
    "- 탐색할 자료를 둘로 나누어 해당 데이터가 있을만한 곳을 탐색하는 방법\n"
   ]
  },
  {
   "cell_type": "code",
   "execution_count": 563,
   "metadata": {},
   "outputs": [
    {
     "name": "stdout",
     "output_type": "stream",
     "text": [
      "[5, 6, 7, 8]\n",
      "[7, 8]\n",
      "[8]\n",
      "False\n"
     ]
    }
   ],
   "source": [
    "def binary_search(data_list,search_data):\n",
    "    length=len(data_list)\n",
    "    \n",
    "    if length==1:\n",
    "        if data_list[0]!=search_data:\n",
    "            return False\n",
    "    \n",
    "    if data_list[length//2]==search_data:\n",
    "        return length//2\n",
    "    \n",
    "    if data_list[length//2]<search_data:\n",
    "        print(data_list[length//2:])\n",
    "        return binary_search(data_list[length//2:],search_data)\n",
    "    \n",
    "    else:\n",
    "        print(data_list[:length//2])\n",
    "        return binary_search(data_list[:length//2],search_data)\n",
    "    \n",
    "data_list=[1,2,3,4,5,6,7,8]\n",
    "\n",
    "print(binary_search(data_list,9))"
   ]
  },
  {
   "cell_type": "markdown",
   "metadata": {},
   "source": [
    "#### 프로그래밍 연습\n",
    "다음 10000개의 데이터를 삽입 정렬, 퀵 정렬로 정렬하는 함수를 각각 만들어보고, 각각의 정렬 시간을 출력하기\n"
   ]
  },
  {
   "cell_type": "code",
   "execution_count": 592,
   "metadata": {},
   "outputs": [
    {
     "name": "stdout",
     "output_type": "stream",
     "text": [
      "[0, 0, 0, 0, 0, 0, 0, 0, 0, 0, 0, 0, 0, 0, 0, 0, 0, 0, 0, 0, 0, 0, 0, 0, 0, 0, 0, 0, 0, 0, 0, 0, 0, 0, 0, 0, 0, 0, 0, 0, 0, 0, 0, 0, 0, 0, 0, 0, 0, 0, 0, 0, 0, 0, 0, 0, 0, 0, 0, 0, 0, 0, 0, 0, 0, 0, 0, 0, 0, 0, 0, 0, 0, 0, 0, 0, 0, 0, 0, 0, 0, 0, 0, 0, 0, 0, 0, 0, 0, 0, 0, 0, 0, 0, 0, 0, 0, 0, 0, 0, 0, 0, 0, 0, 0, 0, 0, 0, 0, 0, 0, 0, 0, 0, 0, 0, 0, 0, 0, 0, 0, 0, 0, 0, 0, 0, 0, 0, 0, 0, 0, 0, 0, 0, 0, 0, 0, 0, 0, 0, 0, 0, 0, 0, 0, 0, 0, 0, 0, 0, 0, 0, 0, 0, 0, 0, 0, 0, 0, 0, 0, 0, 0, 0, 0, 0, 0, 0, 0, 0, 0, 0, 0, 0, 0, 0, 0, 0, 0, 0, 0, 0, 0, 0, 0, 0, 0, 0, 0, 0, 0, 0, 0, 0, 0, 0, 0, 0, 0, 0, 0, 0, 0, 0, 0, 0, 0, 0, 0, 0, 0, 0, 0, 0, 0, 0, 0, 0, 0, 0, 0, 0, 0, 0, 0, 0, 0, 0, 0, 0, 0, 0, 0, 0, 0, 0, 0, 0, 0, 0, 0, 0, 0, 0, 0, 0, 0, 0, 0, 0, 0, 0, 0, 0, 0, 0, 0, 0, 0, 0, 0, 0, 0, 0, 0, 0, 0, 0, 0, 0, 0, 0, 0, 0, 0, 0, 0, 0, 0, 0, 0, 0, 0, 0, 0, 0, 0, 0, 0, 0, 0, 0, 0, 0, 0, 0, 0, 0, 0, 0, 0, 0, 0, 0, 0, 0, 0, 0, 0, 0, 0, 0, 0, 0, 0, 0, 0, 0, 0, 0, 0, 0, 0, 0, 0, 0, 0, 0, 0, 0, 0, 0, 0, 0, 0, 0, 0, 0, 0, 0, 0, 0, 0, 0, 0, 0, 0, 0, 0, 0, 0, 0, 0, 0, 0, 0, 0, 0, 0, 0, 0, 0, 0, 0, 0, 0, 0, 0, 0, 0, 0, 0, 0, 0, 0, 0, 0, 0, 0, 0, 0, 0, 0, 0, 0, 0, 0, 0, 0, 0, 0, 0, 0, 0, 0, 0, 0, 0, 0, 0, 0, 0, 0, 0, 0, 0, 0, 0, 0, 0, 0, 0, 0, 0, 0, 0, 0, 0, 0, 0, 0, 0, 0, 0, 0, 0, 0, 0, 0, 0, 0, 0, 0, 0, 0, 0, 0, 0, 0, 0, 0, 0, 0, 0, 0, 0, 0, 0, 0, 0, 0, 0, 0, 0, 0, 0, 0, 0, 0, 0, 0, 0, 0, 0, 0, 0, 0, 0, 0, 0, 0, 0, 0, 0, 0, 0, 0, 0, 0, 0, 0, 0, 0, 0, 0, 0, 0, 0, 0, 0, 0, 0, 0, 0, 0, 0, 0, 0, 0, 0, 0, 0, 0, 0, 0, 0, 0, 0, 0, 0, 0, 0, 0, 0, 0, 0, 0, 0, 0, 0, 0, 0, 0, 0, 0, 0, 0, 0, 0, 0, 0, 0, 0, 0, 0, 0, 0, 0, 0, 0, 0, 0, 0, 0, 0, 0, 0, 0, 0, 0, 0, 0, 0, 0, 0, 0, 0, 0, 0, 0, 0, 0, 0, 0, 0, 0, 0, 0, 0, 0, 0, 0, 0, 0, 0, 0, 0, 0, 0, 0, 0, 0, 0, 0, 0, 0, 0, 0, 0, 0, 0, 0, 0, 0, 0, 0, 0, 0, 0, 0, 0, 0, 0, 0, 0, 0, 0, 0, 0, 0, 0, 0, 0, 0, 0, 0, 0, 0, 0, 0, 0, 0, 0, 0, 0, 0, 0, 0, 0, 0, 0, 0, 0, 0, 0, 0, 0, 0, 0, 0, 0, 0, 0, 0, 0, 0, 0, 0, 0, 0, 0, 0, 0, 0, 0, 0, 0, 0, 0, 0, 0, 0, 0, 0, 0, 0, 0, 0, 0, 0, 0, 0, 0, 0, 0, 0, 0, 0, 0, 0, 0, 0, 0, 0, 0, 0, 0, 0, 0, 0, 0, 0, 0, 0, 0, 0, 0, 0, 0, 0, 0, 0, 0, 0, 0, 0, 0, 0, 0, 0, 0, 0, 0, 0, 0, 0, 0, 0, 0, 0, 0, 0, 0, 0, 0, 0, 0, 0, 0, 0, 0, 0, 0, 0, 0, 0, 0, 0, 0, 0, 0, 0, 0, 0, 0, 0, 0, 0, 0, 0, 0, 0, 0, 0, 0, 0, 0, 0, 0, 0, 0, 0, 0, 0, 0, 0, 0, 0, 0, 0, 0, 0, 0, 0, 0, 0, 0, 0, 0, 0, 0, 0, 0, 0, 0, 0, 0, 0, 0, 0, 0, 0, 0, 0, 0, 0, 0, 0, 0, 0, 0, 0, 0, 0, 0, 0, 0, 0, 0, 0, 0, 0, 0, 0, 0, 0, 0, 0, 0, 0, 0, 0, 0, 0, 0, 0, 0, 0, 0, 0, 0, 0, 0, 0, 0, 0, 0, 0, 0, 0, 0, 0, 0, 0, 0, 0, 0, 0, 0, 0, 0, 0, 0, 0, 0, 0, 0, 0, 0, 0, 0, 0, 0, 0, 0, 0, 0, 0, 0, 0, 0, 0, 0, 0, 0, 0, 0, 0, 0, 0, 0, 0, 0, 0, 0, 0, 0, 0, 0, 0, 0, 0, 0, 0, 0, 0, 0, 0, 0, 0, 0, 0, 0, 0, 0, 0, 0, 0, 0, 0, 0, 0, 0, 0, 0, 0, 0, 0, 0, 0, 0, 0, 0, 0, 0, 0, 0, 0, 0, 1, 1, 1, 1, 1, 1, 1, 1, 1, 1, 1, 1, 1, 1, 1, 1, 1, 1, 1, 1, 1, 1, 1, 1, 1, 1, 1, 1, 1, 1, 1, 1, 1, 1, 1, 7, 7, 7, 7, 7, 7, 7, 43, 48, 48, 48, 48, 48, 48, 48, 48, 48, 48, 48, 48, 48, 48, 48, 126, 126, 230, 230, 230, 230, 230, 230, 230, 230, 596, 596, 789]\n",
      "0.002260923385620117\n"
     ]
    }
   ],
   "source": [
    "import random\n",
    "import time\n",
    "\n",
    "\n",
    "def insert_sort(data_list):\n",
    "    if data_list[0]>data_list[1]:\n",
    "        data_list[0],data_list[1]=data_list[1],data_list[0]\n",
    "    \n",
    "    for i in range(2,len(data_list)):\n",
    "        num=data_list[i]\n",
    "        for j in range(i,0,-1):\n",
    "            if num<data_list[j-1]:\n",
    "                data_list[j-1],data_list[j]=data_list[j],data_list[j]\n",
    "                \n",
    "            else:\n",
    "                break\n",
    "    return data_list\n",
    "\n",
    "\n",
    "rand_data_list=random.sample(range(1000),1000)\n",
    "pre_time=time.time()\n",
    "\n",
    "\n",
    "print(insert_sort(rand_data_list))\n",
    "\n",
    "print(time.time()-pre_time)\n"
   ]
  },
  {
   "cell_type": "code",
   "execution_count": 593,
   "metadata": {
    "scrolled": true
   },
   "outputs": [
    {
     "name": "stdout",
     "output_type": "stream",
     "text": [
      "[0, 0, 0, 0, 0, 0, 0, 0, 0, 0, 0, 0, 0, 0, 0, 0, 0, 0, 0, 0, 0, 0, 0, 0, 0, 0, 0, 0, 0, 0, 0, 0, 0, 0, 0, 0, 0, 0, 0, 0, 0, 0, 0, 0, 0, 0, 0, 0, 0, 0, 0, 0, 0, 0, 0, 0, 0, 0, 0, 0, 0, 0, 0, 0, 0, 0, 0, 0, 0, 0, 0, 0, 0, 0, 0, 0, 0, 0, 0, 0, 0, 0, 0, 0, 0, 0, 0, 0, 0, 0, 0, 0, 0, 0, 0, 0, 0, 0, 0, 0, 0, 0, 0, 0, 0, 0, 0, 0, 0, 0, 0, 0, 0, 0, 0, 0, 0, 0, 0, 0, 0, 0, 0, 0, 0, 0, 0, 0, 0, 0, 0, 0, 0, 0, 0, 0, 0, 0, 0, 0, 0, 0, 0, 0, 0, 0, 0, 0, 0, 0, 0, 0, 0, 0, 0, 0, 0, 0, 0, 0, 0, 0, 0, 0, 0, 0, 0, 0, 0, 0, 0, 0, 0, 0, 0, 0, 0, 0, 0, 0, 0, 0, 0, 0, 0, 0, 0, 0, 0, 0, 0, 0, 0, 0, 0, 0, 0, 0, 0, 0, 0, 0, 0, 0, 0, 0, 0, 0, 0, 0, 0, 0, 0, 0, 0, 0, 0, 0, 0, 0, 0, 0, 0, 0, 0, 0, 0, 0, 0, 0, 0, 0, 0, 0, 0, 0, 0, 0, 0, 0, 0, 0, 0, 0, 0, 0, 0, 0, 0, 0, 0, 0, 0, 0, 0, 0, 0, 0, 0, 0, 0, 0, 0, 0, 0, 0, 0, 0, 0, 0, 0, 0, 0, 0, 0, 0, 0, 0, 0, 0, 0, 0, 0, 0, 0, 0, 0, 0, 0, 0, 0, 0, 0, 0, 0, 0, 0, 0, 0, 0, 0, 0, 0, 0, 0, 0, 0, 0, 0, 0, 0, 0, 0, 0, 0, 0, 0, 0, 0, 0, 0, 0, 0, 0, 0, 0, 0, 0, 0, 0, 0, 0, 0, 0, 0, 0, 0, 0, 0, 0, 0, 0, 0, 0, 0, 0, 0, 0, 0, 0, 0, 0, 0, 0, 0, 0, 0, 0, 0, 0, 0, 0, 0, 0, 0, 0, 0, 0, 0, 0, 0, 0, 0, 0, 0, 0, 0, 0, 0, 0, 0, 0, 0, 0, 0, 0, 0, 0, 0, 0, 0, 0, 0, 0, 0, 0, 0, 0, 0, 0, 0, 0, 0, 0, 0, 0, 0, 0, 0, 0, 0, 0, 0, 0, 0, 0, 0, 0, 0, 0, 0, 0, 0, 0, 0, 0, 0, 0, 0, 0, 0, 0, 0, 0, 0, 0, 0, 0, 0, 0, 0, 0, 0, 0, 0, 0, 0, 0, 0, 0, 0, 0, 0, 0, 0, 0, 0, 0, 0, 0, 0, 0, 0, 0, 0, 0, 0, 0, 0, 0, 0, 0, 0, 0, 0, 0, 0, 0, 0, 0, 0, 0, 0, 0, 0, 0, 0, 0, 0, 0, 0, 0, 0, 0, 0, 0, 0, 0, 0, 0, 0, 0, 0, 0, 0, 0, 0, 0, 0, 0, 0, 0, 0, 0, 0, 0, 0, 0, 0, 0, 0, 0, 0, 0, 0, 0, 0, 0, 0, 0, 0, 0, 0, 0, 0, 0, 0, 0, 0, 0, 0, 0, 0, 0, 0, 0, 0, 0, 0, 0, 0, 0, 0, 0, 0, 0, 0, 0, 0, 0, 0, 0, 0, 0, 0, 0, 0, 0, 0, 0, 0, 0, 0, 0, 0, 0, 0, 0, 0, 0, 0, 0, 0, 0, 0, 0, 0, 0, 0, 0, 0, 0, 0, 0, 0, 0, 0, 0, 0, 0, 0, 0, 0, 0, 0, 0, 0, 0, 0, 0, 0, 0, 0, 0, 0, 0, 0, 0, 0, 0, 0, 0, 0, 0, 0, 0, 0, 0, 0, 0, 0, 0, 0, 0, 0, 0, 0, 0, 0, 0, 0, 0, 0, 0, 0, 0, 0, 0, 0, 0, 0, 0, 0, 0, 0, 0, 0, 0, 0, 0, 0, 0, 0, 0, 0, 0, 0, 0, 0, 0, 0, 0, 0, 0, 0, 0, 0, 0, 0, 0, 0, 0, 0, 0, 0, 0, 0, 0, 0, 0, 0, 0, 0, 0, 0, 0, 0, 0, 0, 0, 0, 0, 0, 0, 0, 0, 0, 0, 0, 0, 0, 0, 0, 0, 0, 0, 0, 0, 0, 0, 0, 0, 0, 0, 0, 0, 0, 0, 0, 0, 0, 0, 0, 0, 0, 0, 0, 0, 0, 0, 0, 0, 0, 0, 0, 0, 0, 0, 0, 0, 0, 0, 0, 0, 0, 0, 0, 0, 0, 0, 0, 0, 0, 0, 0, 0, 0, 0, 0, 0, 0, 0, 0, 0, 0, 0, 0, 0, 0, 0, 0, 0, 0, 0, 0, 0, 0, 0, 0, 0, 0, 0, 0, 0, 0, 0, 0, 0, 0, 0, 0, 0, 0, 0, 0, 0, 0, 0, 0, 0, 0, 0, 0, 0, 0, 0, 0, 0, 0, 0, 0, 0, 0, 0, 0, 0, 0, 0, 0, 0, 0, 0, 0, 0, 0, 0, 0, 0, 0, 0, 0, 0, 0, 0, 0, 0, 0, 0, 0, 0, 0, 0, 0, 0, 0, 0, 0, 0, 0, 0, 0, 0, 0, 0, 0, 0, 0, 0, 0, 0, 0, 0, 0, 0, 0, 0, 0, 0, 0, 0, 0, 0, 0, 0, 0, 0, 0, 0, 0, 0, 0, 0, 0, 0, 0, 0, 0, 0, 0, 0, 0, 0, 0, 0, 0, 0, 0, 0, 0, 0, 0, 0, 0, 0, 0, 0, 0, 0, 0, 0, 0, 0, 0, 0, 0, 0, 0, 0, 0, 1, 1, 1, 1, 1, 1, 1, 1, 1, 1, 1, 1, 1, 1, 1, 1, 1, 1, 1, 1, 1, 1, 1, 1, 1, 1, 1, 1, 1, 1, 1, 1, 1, 1, 1, 7, 7, 7, 7, 7, 7, 7, 43, 48, 48, 48, 48, 48, 48, 48, 48, 48, 48, 48, 48, 48, 48, 48, 126, 126, 230, 230, 230, 230, 230, 230, 230, 230, 596, 596, 789]\n",
      "0.06979513168334961\n"
     ]
    }
   ],
   "source": [
    "def quick_sort(data_list):\n",
    "    if len(data_list)<=1:\n",
    "        return data_list\n",
    "    left=[]\n",
    "    right=[]\n",
    "    pivot=data_list[0]\n",
    "    for i in range(1,len(data_list)):\n",
    "        if pivot<data_list[i]:\n",
    "            right.append(data_list[i])\n",
    "        else:\n",
    "            left.append(data_list[i])\n",
    "    \n",
    "    return quick_sort(left)+[pivot]+quick_sort(right)\n",
    "\n",
    "pre_time=time.time()\n",
    "\n",
    "\n",
    "print(quick_sort(rand_data_list))\n",
    "\n",
    "print(time.time()-pre_time)\n"
   ]
  },
  {
   "cell_type": "code",
   "execution_count": null,
   "metadata": {},
   "outputs": [],
   "source": []
  }
 ],
 "metadata": {
  "kernelspec": {
   "display_name": "Python 3.6.10 64-bit ('keras': conda)",
   "language": "python",
   "name": "python361064bitkerasconda55ebfc9aef9846b787f96969ddddc812"
  },
  "language_info": {
   "codemirror_mode": {
    "name": "ipython",
    "version": 3
   },
   "file_extension": ".py",
   "mimetype": "text/x-python",
   "name": "python",
   "nbconvert_exporter": "python",
   "pygments_lexer": "ipython3",
   "version": "3.6.10"
  }
 },
 "nbformat": 4,
 "nbformat_minor": 4
}
