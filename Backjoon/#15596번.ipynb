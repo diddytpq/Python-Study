{
 "cells": [
  {
   "cell_type": "markdown",
   "metadata": {},
   "source": [
    "### 정수 n개가 주어졌을 때, n개의 합을 구하는 함수를 작성하시오.\n",
    "\n",
    "작성해야 하는 함수는 다음과 같다.\n",
    " \n",
    "Python 2, Python 3, PyPy, PyPy3: def solve(a: list) -> int  \n",
    "a: 합을 구해야 하는 정수 n개가 저장되어 있는 리스트 (0 ≤ a[i] ≤ 1,000,000, 1 ≤ n ≤ 3,000,000)  \n",
    "리턴값: a에 포함되어 있는 정수 n개의 합 (정수)\n",
    "    "
   ]
  },
  {
   "cell_type": "code",
   "execution_count": 3,
   "metadata": {},
   "outputs": [],
   "source": [
    "def solve(data_list):\n",
    "    total=0\n",
    "    for i in range(len(data_list)):\n",
    "        total+=data_list[i]\n",
    "        \n",
    "    return total\n",
    "\n",
    "\n",
    "def solve(data_list):\n",
    "    return sum(data_list)\n",
    "    \n",
    "    "
   ]
  },
  {
   "cell_type": "code",
   "execution_count": 4,
   "metadata": {},
   "outputs": [
    {
     "data": {
      "text/plain": [
       "15"
      ]
     },
     "execution_count": 4,
     "metadata": {},
     "output_type": "execute_result"
    }
   ],
   "source": [
    "solve([1,2,3,4,5])"
   ]
  },
  {
   "cell_type": "code",
   "execution_count": null,
   "metadata": {},
   "outputs": [],
   "source": []
  }
 ],
 "metadata": {
  "kernelspec": {
   "display_name": "Python 3",
   "language": "python",
   "name": "python3"
  },
  "language_info": {
   "codemirror_mode": {
    "name": "ipython",
    "version": 3
   },
   "file_extension": ".py",
   "mimetype": "text/x-python",
   "name": "python",
   "nbconvert_exporter": "python",
   "pygments_lexer": "ipython3",
   "version": "3.6.10"
  }
 },
 "nbformat": 4,
 "nbformat_minor": 4
}
